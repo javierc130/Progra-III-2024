{
  "nbformat": 4,
  "nbformat_minor": 0,
  "metadata": {
    "colab": {
      "provenance": [],
      "authorship_tag": "ABX9TyP21TBspPu13sbS8Ebb7PvV",
      "include_colab_link": true
    },
    "kernelspec": {
      "name": "python3",
      "display_name": "Python 3"
    },
    "language_info": {
      "name": "python"
    }
  },
  "cells": [
    {
      "cell_type": "markdown",
      "metadata": {
        "id": "view-in-github",
        "colab_type": "text"
      },
      "source": [
        "<a href=\"https://colab.research.google.com/github/javierc130/Progra-III-2024/blob/main/Fundamentos_de_python.ipynb\" target=\"_parent\"><img src=\"https://colab.research.google.com/assets/colab-badge.svg\" alt=\"Open In Colab\"/></a>"
      ]
    },
    {
      "cell_type": "code",
      "execution_count": null,
      "metadata": {
        "colab": {
          "base_uri": "https://localhost:8080/"
        },
        "id": "VdJjSrCx4Zts",
        "outputId": "06c1a4b9-f860-4525-9828-4ff4523bcd6a"
      },
      "outputs": [
        {
          "output_type": "stream",
          "name": "stdout",
          "text": [
            "Hello, World\n",
            "Hola Javier Navarro , iniciales:  J N\n"
          ]
        }
      ],
      "source": [
        "print(\"Hello, World\")\n",
        "nombre = \"Javier Navarro\"\n",
        "\n",
        "print(\"Hola\", nombre, \", iniciales: \", nombre[0], nombre[7])"
      ]
    },
    {
      "cell_type": "markdown",
      "source": [
        "*EJERCICIO* Crear un programa en python que sume 2 numeros"
      ],
      "metadata": {
        "id": "WeLtD7PI9dry"
      }
    },
    {
      "cell_type": "code",
      "source": [
        "num1 = 5\n",
        "num2 = 9.5\n",
        "resp = num1 + num2\n",
        "print(\"La suma es:\", resp)"
      ],
      "metadata": {
        "colab": {
          "base_uri": "https://localhost:8080/"
        },
        "id": "BOB040Vj9aF1",
        "outputId": "49539da1-ace2-4a53-c803-f3351beaf8aa"
      },
      "execution_count": null,
      "outputs": [
        {
          "output_type": "stream",
          "name": "stdout",
          "text": [
            "La suma es: 14.5\n"
          ]
        }
      ]
    },
    {
      "cell_type": "markdown",
      "source": [
        "EJERCICIO Crear un programa en python que sume 2 numeros producidos por el usuario"
      ],
      "metadata": {
        "id": "ZY4dO8gH_NxP"
      }
    },
    {
      "cell_type": "code",
      "source": [
        "print(\"num1\")\n",
        "num1 = float(input())\n",
        "\n",
        "print(\"num2\")\n",
        "num2 = float(input())\n",
        "\n",
        "resp = num1 + num2\n",
        "print(\"La suma es:\", resp)"
      ],
      "metadata": {
        "colab": {
          "base_uri": "https://localhost:8080/"
        },
        "collapsed": true,
        "id": "5bvQ5w-J_UeV",
        "outputId": "648f47a3-80b9-4748-9956-6174998cb0ef"
      },
      "execution_count": null,
      "outputs": [
        {
          "output_type": "stream",
          "name": "stdout",
          "text": [
            "num1\n",
            "2\n",
            "num2\n",
            "6\n",
            "La suma es: 8.0\n"
          ]
        }
      ]
    },
    {
      "cell_type": "code",
      "source": [
        "#Tipos de datos\n",
        "num1 = 5\n",
        "num2 = 5.9\n",
        "nombre = \"Javier Navarro\"\n",
        "print(nombre[0:6], nombre[:6], nombre[-1:], nombre[6:len(nombre)])\n",
        "\n",
        "estado = True\n",
        "print(estado)\n",
        "\n",
        "print(type(nombre), type(num1), type(num2), type(estado))\n"
      ],
      "metadata": {
        "id": "Jqv7IfEkCFdv",
        "colab": {
          "base_uri": "https://localhost:8080/"
        },
        "outputId": "1888b194-48a5-42ae-8935-0e7502930f3c"
      },
      "execution_count": null,
      "outputs": [
        {
          "output_type": "stream",
          "name": "stdout",
          "text": [
            "Javier Javier o  Navarro\n",
            "True\n",
            "<class 'str'> <class 'int'> <class 'float'> <class 'bool'>\n"
          ]
        }
      ]
    },
    {
      "cell_type": "markdown",
      "source": [
        "crear un programa en python que lea un numero y determine si es par o impar"
      ],
      "metadata": {
        "id": "1CR7XM-6Eolj"
      }
    },
    {
      "cell_type": "code",
      "source": [
        "num = int(input(\"Ingrese un numero:\"))\n",
        "if num % 2 == 0:\n",
        " print(\"El numero es par\")\n",
        "else:\n",
        " print(\"el numero es impar\")"
      ],
      "metadata": {
        "colab": {
          "base_uri": "https://localhost:8080/"
        },
        "id": "8BULpuNnEwx0",
        "outputId": "ccfc0000-0319-422d-845a-c18e93efe4a8"
      },
      "execution_count": null,
      "outputs": [
        {
          "output_type": "stream",
          "name": "stdout",
          "text": [
            "Ingrese un numero:8\n",
            "El numero es par\n"
          ]
        }
      ]
    },
    {
      "cell_type": "markdown",
      "source": [
        "Ejercicio: uso de las funciones de usuario con la suma de 2 numeros"
      ],
      "metadata": {
        "id": "ju8uHURiabVw"
      }
    },
    {
      "cell_type": "code",
      "source": [
        " def suma(num1, num2):\n",
        "  return num1 + num2"
      ],
      "metadata": {
        "id": "pA-UaN3RbJz0"
      },
      "execution_count": null,
      "outputs": []
    },
    {
      "cell_type": "code",
      "source": [
        "  num1 = float(input(\"num 1:\"))\n",
        "  num2 = float(input(\"num 2:\"))\n",
        "  resp = suma(num1, num2)\n",
        "  print(\"La suma es:\", resp)"
      ],
      "metadata": {
        "colab": {
          "base_uri": "https://localhost:8080/"
        },
        "id": "NpzXyIofYHSO",
        "outputId": "f965fa66-1330-469d-a7d9-24790b6fd597"
      },
      "execution_count": null,
      "outputs": [
        {
          "output_type": "stream",
          "name": "stdout",
          "text": [
            "num 1:2\n",
            "num 2:2\n",
            "La suma es: 4.0\n"
          ]
        }
      ]
    },
    {
      "cell_type": "markdown",
      "source": [
        "Ejercio: convertir grados celsius a farenheit, usando funciones de ususario"
      ],
      "metadata": {
        "id": "NtIku3QGbQaS"
      }
    },
    {
      "cell_type": "code",
      "source": [
        "def convertir_cf(c):\n",
        "  return c * 1.8 + 32"
      ],
      "metadata": {
        "id": "PxdGZLsgbY__"
      },
      "execution_count": null,
      "outputs": []
    },
    {
      "cell_type": "code",
      "source": [
        "c = float(input(\"Celsius:\"))\n",
        "print(\"Farenheit:\", convertir_cf(c))"
      ],
      "metadata": {
        "id": "nDRMCG6ibsIE"
      },
      "execution_count": null,
      "outputs": []
    },
    {
      "cell_type": "markdown",
      "source": [
        "Ejercicio: determina si un numero es par o impar"
      ],
      "metadata": {
        "id": "KutqW--qfLAY"
      }
    },
    {
      "cell_type": "code",
      "source": [
        "def par_impar(num):\n",
        "    if(num % 2 == 0):\n",
        "      return \"par\"\n",
        "    return \"impar\""
      ],
      "metadata": {
        "id": "qEA50AfbfQ2D"
      },
      "execution_count": null,
      "outputs": []
    },
    {
      "cell_type": "code",
      "source": [
        "num = int(input(\"Num:\"))\n",
        "print(\"el numero\",num, \"es\", par_impar(num))"
      ],
      "metadata": {
        "colab": {
          "base_uri": "https://localhost:8080/"
        },
        "id": "EyfsCCKSf2n5",
        "outputId": "87350231-56c0-41cf-e67a-2ac5f3b19da1"
      },
      "execution_count": null,
      "outputs": [
        {
          "output_type": "stream",
          "name": "stdout",
          "text": [
            "Num:2\n",
            "el numero 2 es par\n"
          ]
        }
      ]
    },
    {
      "cell_type": "markdown",
      "source": [
        "**Tarea para el miercoles:**\n",
        "1. Convertir grados farenheit a celsius\n",
        "2. Convertir grados (Farenheit y celsius) a Kelvin\n"
      ],
      "metadata": {
        "id": "-IkNujjZhByT"
      }
    },
    {
      "cell_type": "markdown",
      "source": [
        "Farenheit a celcius"
      ],
      "metadata": {
        "id": "nuuCQrgHex72"
      }
    },
    {
      "cell_type": "code",
      "source": [
        "def convertir_cf(f):\n",
        "  return (f - 32) / 1.8"
      ],
      "metadata": {
        "id": "7xudpkEneLpF"
      },
      "execution_count": null,
      "outputs": []
    },
    {
      "cell_type": "code",
      "source": [
        "f = float(input(\"Farenheit:\"))\n",
        "print(\"Celsius:\", convertir_cf(f))"
      ],
      "metadata": {
        "id": "sb9v-ZabeYGe"
      },
      "execution_count": null,
      "outputs": []
    },
    {
      "cell_type": "markdown",
      "source": [
        "Ferenheit y Celsius a Kelvin"
      ],
      "metadata": {
        "id": "7mAkiXUae1l3"
      }
    },
    {
      "cell_type": "code",
      "source": [
        "def convertir_fk(f):\n",
        "  return (f + 459.67) * 5/9\n",
        "\n",
        "def convertir_ck(c):\n",
        "  return c + 273.15\n",
        "\n",
        "def covertir_rk(r):\n",
        "  return r * 5/9"
      ],
      "metadata": {
        "id": "9hxAP7TvfARF"
      },
      "execution_count": null,
      "outputs": []
    },
    {
      "cell_type": "code",
      "source": [
        "f = float(input(\"Farenheit:\"))\n",
        "print(\"Kelvin:\", convertir_fk(f))\n",
        "\n",
        "c = float(input(\"Celsius:\"))\n",
        "print(\"Kelvin:\", convertir_ck(c))\n",
        "\n",
        "r = float(input(\"Rankine:\"))\n",
        "print(\"Kelvin:\", covertir_rk(r))"
      ],
      "metadata": {
        "id": "ZzP7jH6kfFok"
      },
      "execution_count": null,
      "outputs": []
    },
    {
      "cell_type": "markdown",
      "source": [
        "Ejercicio: calcular el sueldo de un trabajador"
      ],
      "metadata": {
        "id": "AuFz6t9uhqsq"
      }
    },
    {
      "cell_type": "code",
      "source": [
        "def sueldo(numHrs, valorHrs):\n",
        "  sueldo = numHrs * valorHrs *30\n",
        "  if(numHrs > 8):\n",
        "    sueldo = sueldo + (numHrs - 8) * valorHrs * 30\n",
        "  return sueldo"
      ],
      "metadata": {
        "id": "6BFcg_l4hvvd"
      },
      "execution_count": null,
      "outputs": []
    },
    {
      "cell_type": "code",
      "source": [
        "numHrs = int(input(\"Horas:\"))\n",
        "valorHrs = float(input(\"Valor:\"))\n",
        "print(\"Sueldo Mensual:\", sueldo(numHrs, valorHrs))"
      ],
      "metadata": {
        "colab": {
          "base_uri": "https://localhost:8080/"
        },
        "id": "frSrFLPzh-MJ",
        "outputId": "f6061e3d-a33b-489f-c650-a344388eaeb4"
      },
      "execution_count": null,
      "outputs": [
        {
          "output_type": "stream",
          "name": "stdout",
          "text": [
            "Horas:2\n",
            "Valor:3\n",
            "Sueldo Mensual: 180.0\n"
          ]
        }
      ]
    },
    {
      "cell_type": "markdown",
      "source": [
        "Ejercicio: elevar un numero al cuadrado"
      ],
      "metadata": {
        "id": "Nl6ChjUp56FN"
      }
    },
    {
      "cell_type": "code",
      "source": [
        "def elevar_cuadrado(base=0, exponente=2):\n",
        "  return base**exponente"
      ],
      "metadata": {
        "id": "YG0ZFAM66InC"
      },
      "execution_count": null,
      "outputs": []
    },
    {
      "cell_type": "code",
      "source": [
        "num = int (input(\"Num:\"))\n",
        "print(\"Cuadrado:\", elevar_cuadrado(num, 3))"
      ],
      "metadata": {
        "colab": {
          "base_uri": "https://localhost:8080/"
        },
        "id": "oq0qXtye6bTr",
        "outputId": "241aa0b6-0fde-40dd-8ef3-fe561dfcb43b"
      },
      "execution_count": null,
      "outputs": [
        {
          "output_type": "stream",
          "name": "stdout",
          "text": [
            "Num:3\n",
            "Cuadrado: 27\n"
          ]
        }
      ]
    },
    {
      "cell_type": "markdown",
      "source": [
        "Ejercicio: Usando Funciones Lambda"
      ],
      "metadata": {
        "id": "qzaDOwbO8F-s"
      }
    },
    {
      "cell_type": "code",
      "source": [
        "elevar_cuadrado_lambda = lambda Base, Exponente: Base**Exponente"
      ],
      "metadata": {
        "id": "nuDQkpsT8DsI"
      },
      "execution_count": null,
      "outputs": []
    },
    {
      "cell_type": "code",
      "source": [
        "valor = int (input(\"Num:\"))\n",
        "print(\"Cuadrado:\", elevar_cuadrado_lambda(valor, 2))"
      ],
      "metadata": {
        "colab": {
          "base_uri": "https://localhost:8080/"
        },
        "id": "OB3FN8ek86Oh",
        "outputId": "f06cde81-538b-4338-bbdb-690bce83cc41"
      },
      "execution_count": null,
      "outputs": [
        {
          "output_type": "stream",
          "name": "stdout",
          "text": [
            "Num:3\n",
            "Cuadrado: 9\n"
          ]
        }
      ]
    },
    {
      "cell_type": "code",
      "source": [
        "serie = [5,4,3,2,6,7]\n",
        "resp = map(lambda x: x**2, serie)\n",
        "print(list(resp))\n",
        "\n",
        "resp2 = map(elevar_cuadrado, serie)\n",
        "print(list(resp2))"
      ],
      "metadata": {
        "colab": {
          "base_uri": "https://localhost:8080/"
        },
        "id": "UzC9diLp_elk",
        "outputId": "764cb2f0-4474-42c9-fe37-60ef04a91b38"
      },
      "execution_count": null,
      "outputs": [
        {
          "output_type": "stream",
          "name": "stdout",
          "text": [
            "[25, 16, 9, 4, 36, 49]\n",
            "[25, 16, 9, 4, 36, 49]\n"
          ]
        }
      ]
    },
    {
      "cell_type": "markdown",
      "source": [
        "Ejercicio: obtener una raiz cuadrada de un serie de numeros fijos"
      ],
      "metadata": {
        "id": "CdqmHqzaDNjj"
      }
    },
    {
      "cell_type": "code",
      "source": [
        "serie = [5,4,3,2,6,7]\n",
        "resp = map(lambda x: x**0.5, serie)\n",
        "print(list(resp))"
      ],
      "metadata": {
        "colab": {
          "base_uri": "https://localhost:8080/"
        },
        "id": "MGmPHhXODUGH",
        "outputId": "c309f49f-3b1b-4eb2-ecbd-7d5229a2cb16"
      },
      "execution_count": null,
      "outputs": [
        {
          "output_type": "stream",
          "name": "stdout",
          "text": [
            "[2.23606797749979, 2.0, 1.7320508075688772, 1.4142135623730951, 2.449489742783178, 2.6457513110645907]\n"
          ]
        }
      ]
    },
    {
      "cell_type": "markdown",
      "source": [
        "Ejercicio con funciones preconstruidas en python\n",
        "\n",
        "*   MAP\n",
        "\n"
      ],
      "metadata": {
        "id": "7-9W03eybcoX"
      }
    },
    {
      "cell_type": "code",
      "source": [
        "numeros = [1,2,3,4,5,6,7,8,9]\n",
        "print(list(map(lambda n: n*2, numeros)))"
      ],
      "metadata": {
        "colab": {
          "base_uri": "https://localhost:8080/"
        },
        "id": "Ko7DOYhgbmM5",
        "outputId": "030e3982-242e-4ce8-c342-9b8b2f343b03"
      },
      "execution_count": null,
      "outputs": [
        {
          "output_type": "stream",
          "name": "stdout",
          "text": [
            "[2, 4, 6, 8, 10, 12, 14, 16, 18]\n"
          ]
        }
      ]
    },
    {
      "cell_type": "code",
      "source": [
        "numeros = [1,2,3,4,5,6,7,8,9,10]\n",
        "ntabla = int(input(\"Tabla:\"))\n",
        "print(list(map(lambda n: n*ntabla, numeros)))"
      ],
      "metadata": {
        "colab": {
          "base_uri": "https://localhost:8080/"
        },
        "id": "dNvnTtMXb95s",
        "outputId": "5fee88aa-d765-417d-e1b2-d572ebf0a0b8"
      },
      "execution_count": null,
      "outputs": [
        {
          "output_type": "stream",
          "name": "stdout",
          "text": [
            "Tabla:10\n",
            "[10, 20, 30, 40, 50, 60, 70, 80, 90, 100]\n"
          ]
        }
      ]
    },
    {
      "cell_type": "markdown",
      "source": [
        "Ejercicio con funciones preconstruidas en python\n",
        "\n",
        "* FILTER\n",
        "\n"
      ],
      "metadata": {
        "id": "NQ17i7TRc073"
      }
    },
    {
      "cell_type": "code",
      "source": [
        "numeros = [1,2,3,4,5,6,7,8,9,10]\n",
        "print(\"Pares:\",list(filter(lambda n: n%2 == 0, numeros)))#obtener solo pares\n",
        "\n",
        "print(\"Impares:\",list(filter(lambda n: n%2 != 0, numeros))) #solo numeros impares\n"
      ],
      "metadata": {
        "colab": {
          "base_uri": "https://localhost:8080/"
        },
        "id": "OQx_1A_UdAL_",
        "outputId": "a23f21dd-debc-403e-b859-99c3a0b45c89"
      },
      "execution_count": null,
      "outputs": [
        {
          "output_type": "stream",
          "name": "stdout",
          "text": [
            "Pares: [2, 4, 6, 8, 10]\n",
            "Impares: [1, 3, 5, 7, 9]\n"
          ]
        }
      ]
    },
    {
      "cell_type": "code",
      "source": [
        "notas = [8,9,10,7,6,9,10,2,3,1,8,9,2,4]\n",
        "print(\"Aprobados:\",list(filter(lambda n: n>=6, notas)))\n",
        "print(\"Reprobados:\",list(filter(lambda n: n<6, notas)))"
      ],
      "metadata": {
        "colab": {
          "base_uri": "https://localhost:8080/"
        },
        "id": "cGZKPs_qdxrE",
        "outputId": "befafdf2-7d30-446a-c2ab-4830146cee10"
      },
      "execution_count": null,
      "outputs": [
        {
          "output_type": "stream",
          "name": "stdout",
          "text": [
            "Aprobados: [8, 9, 10, 7, 6, 9, 10, 8, 9]\n",
            "Reprobados: [2, 3, 1, 2, 4]\n"
          ]
        }
      ]
    },
    {
      "cell_type": "markdown",
      "source": [
        "Ejercicio con funciones preconstruidas en python\n",
        "* REDUCE"
      ],
      "metadata": {
        "id": "DFznlYRleLC0"
      }
    },
    {
      "cell_type": "code",
      "source": [
        "from functools import reduce\n",
        "numeros = [7,8,9,10]\n",
        "print(\"suma:\",reduce(lambda n, acum: n+acum, numeros))"
      ],
      "metadata": {
        "colab": {
          "base_uri": "https://localhost:8080/"
        },
        "id": "C0mN9CVvePox",
        "outputId": "2b44707a-9060-420f-e8a7-621fc87e52fe"
      },
      "execution_count": null,
      "outputs": [
        {
          "output_type": "stream",
          "name": "stdout",
          "text": [
            "suma: 34\n"
          ]
        }
      ]
    },
    {
      "cell_type": "code",
      "source": [
        "numeros = [7,8,9,10,1,5]\n",
        "print(\"Numero mayor:\",reduce(lambda n, mayor: n if n>mayor else mayor, numeros))\n",
        "print(\"Numero menor:\",reduce(lambda n, menor: n if n<menor else menor, numeros))"
      ],
      "metadata": {
        "colab": {
          "base_uri": "https://localhost:8080/"
        },
        "id": "b3GOPY9se6YE",
        "outputId": "4bfb0a79-5a42-46a3-96ec-c68d5909eb34"
      },
      "execution_count": null,
      "outputs": [
        {
          "output_type": "stream",
          "name": "stdout",
          "text": [
            "Numero mayor: 10\n",
            "Numero menor: 1\n"
          ]
        }
      ]
    },
    {
      "cell_type": "markdown",
      "source": [
        "* **TUPLAS**"
      ],
      "metadata": {
        "id": "wPtZVgR1grLq"
      }
    },
    {
      "cell_type": "code",
      "source": [
        "numeros = (5,8,7,9,5,4,7)\n",
        "print(\"Tupla:\", numeros, \"primer:\", numeros[0], \"ultimo:\", numeros[-1],\n",
        "\"Rango: 2-6\", numeros[2:6])\n",
        "print(\"El numero se repite\",numeros.count(5))"
      ],
      "metadata": {
        "colab": {
          "base_uri": "https://localhost:8080/"
        },
        "id": "RR1R67lMgwDL",
        "outputId": "56cc64e9-ad29-4bb8-9b6a-8a884bc14686"
      },
      "execution_count": null,
      "outputs": [
        {
          "output_type": "stream",
          "name": "stdout",
          "text": [
            "Tupla: (5, 8, 7, 9, 5, 4, 7) primer: 5 ultimo: 7 Rango: 2-6 (7, 9, 5, 4)\n",
            "El numero se repite 2\n"
          ]
        }
      ]
    },
    {
      "cell_type": "code",
      "source": [
        "semana = (\"domingo\", \"lunes\", \"martes\", \"miercoles\", \"jueves\", \"viernes\", \"sabado\")\n",
        "print(semana[0],\"Cuantas veces se repite domingo:\", semana.count(\"domingo\"),\"; dias de la semana\", len(semana))"
      ],
      "metadata": {
        "colab": {
          "base_uri": "https://localhost:8080/"
        },
        "id": "FUxOuMGnhnZk",
        "outputId": "cacb22e1-5de4-4b03-fa8b-3416ea4e933d"
      },
      "execution_count": null,
      "outputs": [
        {
          "output_type": "stream",
          "name": "stdout",
          "text": [
            "domingo Cuantas veces se repite domingo: 1 ; dias de la semana 7\n"
          ]
        }
      ]
    },
    {
      "cell_type": "code",
      "source": [
        "import datetime\n",
        "hoy = datetime.date.today()\n",
        "dia = hoy.day\n",
        "mes = hoy.month\n",
        "year = hoy.year\n",
        "dia_semana = hoy.isoweekday()\n",
        "\n",
        "semana = (\"Domingo\", \"Lunes\", \"Martes\", \"Miercoles\", \"Jueves\", \"Viernes\", \"Sabado\")\n",
        "meses = (\"Enero\", \"Febrero\", \"Marzo\", \"Abril\", \"Mayo\", \"Junio\", \"Julio\", \"Agosto\", \"Septiembre\", \"Octubre\", \"Noviembre\", \"Diciembre\")\n",
        "\n",
        "print(semana[dia_semana],dia, \"de\", meses[mes],\"del\", year)"
      ],
      "metadata": {
        "colab": {
          "base_uri": "https://localhost:8080/"
        },
        "id": "bD1vEUJBirB6",
        "outputId": "37ec3557-a55a-4e88-8c2f-8a85291ddb0e"
      },
      "execution_count": null,
      "outputs": [
        {
          "output_type": "stream",
          "name": "stdout",
          "text": [
            "Lunes 29 de Agosto del 2024\n"
          ]
        }
      ]
    },
    {
      "cell_type": "code",
      "source": [
        "tuplas = (\"Luis\", \"Juan\")\n",
        "#tuplas[0] = \"Maria\" #Las tuplas son inmutables, no pueden cambiar su valor\n",
        "print(tuplas)\n",
        "listas = [\"Luis\", \"Juan\"]\n",
        "listas[0] = \"Maria\" #Las listas si son mutables, si puede cambiar su valor\n",
        "\n",
        "print(listas)\n"
      ],
      "metadata": {
        "colab": {
          "base_uri": "https://localhost:8080/"
        },
        "id": "O_-jn-GmlBx3",
        "outputId": "e6a2086c-ac56-4dd4-eb12-b0a97008e02f"
      },
      "execution_count": null,
      "outputs": [
        {
          "output_type": "stream",
          "name": "stdout",
          "text": [
            "('Luis', 'Juan')\n",
            "['Maria', 'Juan']\n"
          ]
        }
      ]
    },
    {
      "cell_type": "markdown",
      "source": [
        "* LISTAS"
      ],
      "metadata": {
        "id": "QqMV2u4Il6qP"
      }
    },
    {
      "cell_type": "code",
      "source": [
        "listas = [5,8,7,9, \"Luis\", \"Jonathan\", \"Ramon\"]\n",
        "print(listas, listas[-1])"
      ],
      "metadata": {
        "colab": {
          "base_uri": "https://localhost:8080/"
        },
        "id": "S4qbPmxjl5ns",
        "outputId": "4d15be60-3613-4832-bc05-e0a713619102"
      },
      "execution_count": null,
      "outputs": [
        {
          "output_type": "stream",
          "name": "stdout",
          "text": [
            "[5, 8, 7, 9, 'Luis', 'Jonathan', 'Ramon'] Ramon\n"
          ]
        }
      ]
    },
    {
      "cell_type": "code",
      "source": [
        "def obtener_nota(nota, eval):\n",
        "   return eval[1]*0.3 + nota"
      ],
      "metadata": {
        "id": "l3J7aI4fmyyM"
      },
      "execution_count": null,
      "outputs": []
    },
    {
      "cell_type": "code",
      "source": [
        "from functools import reduce\n",
        "matriz = [[\"Lab1\", 8], [\"Lab2\", 9], [\"Parcial\", 8]]\n",
        "reduce(obtener_nota, matriz, 0)"
      ],
      "metadata": {
        "colab": {
          "base_uri": "https://localhost:8080/"
        },
        "id": "zhuJnRvTmXOZ",
        "outputId": "bd340266-5d5b-49fc-f95b-7476d2bf6b08"
      },
      "execution_count": null,
      "outputs": [
        {
          "output_type": "execute_result",
          "data": {
            "text/plain": [
              "7.5"
            ]
          },
          "metadata": {},
          "execution_count": 3
        }
      ]
    },
    {
      "cell_type": "code",
      "source": [
        "serie = [1,2,3,3,4,4,1,8,9]\n",
        "print(serie.count(1))"
      ],
      "metadata": {
        "colab": {
          "base_uri": "https://localhost:8080/"
        },
        "id": "gc77Lz07fxEk",
        "outputId": "35008d95-b1c2-4509-8954-611d127c2ef4"
      },
      "execution_count": null,
      "outputs": [
        {
          "output_type": "stream",
          "name": "stdout",
          "text": [
            "2\n"
          ]
        }
      ]
    },
    {
      "cell_type": "code",
      "source": [
        "numeros = []\n",
        "for i in range(10):\n",
        "  numeros.append(int(input(\"Num:\"+ str(i)+\":\")))\n",
        "num = int(input(\"Num a buscar:\"))\n",
        "print(\"serie:\",numeros,\"El numero\",num,\",se repite\",numeros.count(num),\"veces\" )"
      ],
      "metadata": {
        "colab": {
          "base_uri": "https://localhost:8080/"
        },
        "id": "osid4AZAgYgM",
        "outputId": "f6e40cc1-0725-44cb-8cb7-7ebb32297c86"
      },
      "execution_count": null,
      "outputs": [
        {
          "output_type": "stream",
          "name": "stdout",
          "text": [
            "Num:0:1\n",
            "Num:1:2\n",
            "Num:2:3\n",
            "Num:3:4\n",
            "Num:4:5\n",
            "Num:5:6\n",
            "Num:6:7\n",
            "Num:7:8\n",
            "Num:8:9\n",
            "Num:9:0\n",
            "Num a buscar:1\n",
            "serie: [1, 2, 3, 4, 5, 6, 7, 8, 9, 0] El numero 1 ,se repite 1 veces\n",
            "<list_reverseiterator object at 0x7cb5fdf4d4e0>\n"
          ]
        }
      ]
    },
    {
      "cell_type": "code",
      "source": [
        "numeros = [1,2,3,4,4,2,5,6,7,8,9,10]\n",
        "numeros.sort()\n",
        "numeros.reverse()\n",
        "print(numeros)"
      ],
      "metadata": {
        "colab": {
          "base_uri": "https://localhost:8080/"
        },
        "id": "7i9kloNyjwjE",
        "outputId": "a00339b1-8c10-4849-b85c-346329dfd809"
      },
      "execution_count": null,
      "outputs": [
        {
          "output_type": "stream",
          "name": "stdout",
          "text": [
            "[10, 9, 8, 7, 6, 5, 4, 4, 3, 2, 2, 1]\n"
          ]
        }
      ]
    },
    {
      "cell_type": "markdown",
      "source": [
        "**Diccionarios**"
      ],
      "metadata": {
        "id": "iIIpNfoCkQVD"
      }
    },
    {
      "cell_type": "code",
      "source": [
        "datos= {\n",
        "  \"codigo\":\"USSS104822\",\n",
        "  \"nombre\":\"Javier Navarro\",\n",
        "  \"materias\":[\n",
        "      {\"codigo\":\"611\",\"nombre\":\"Programacion III\",\"notas\":{\n",
        "          \"c1\":{\"lab1\":8,\"lab2\":8,\"parcial\":10},\n",
        "          \"c2\":{\"lab1\":3,\"lab2\":4,\"parcial\":7},\n",
        "          \"c3\":{\"lab1\":7,\"lab2\":9,\"parcial\":9}\n",
        "\n",
        "          }\n",
        "       },\n",
        "      {\"codigo\":\"612\",\"nombre\":\"Base de datos\"}\n",
        "  ]\n",
        "}\n",
        "print(datos[\"codigo\"],datos[\"nombre\"], datos[\"materias\"][0][\"nombre\"], datos[\"materias\"][0][\"notas\"][\"c1\"])"
      ],
      "metadata": {
        "colab": {
          "base_uri": "https://localhost:8080/"
        },
        "id": "jE29KnsFkUlz",
        "outputId": "db457b39-bb06-40a9-bc81-8c2a4db272b5"
      },
      "execution_count": null,
      "outputs": [
        {
          "output_type": "stream",
          "name": "stdout",
          "text": [
            "USSS104822 Javier Navarro Programacion III {'lab1': 8, 'lab2': 8, 'parcial': 10}\n"
          ]
        }
      ]
    },
    {
      "cell_type": "markdown",
      "source": [
        "**Estructuras de control**\n",
        "\n",
        "IF\n",
        "Ejercicio: solicitar a usuario su edad y determinar su clasificaioin"
      ],
      "metadata": {
        "id": "-YIXN8ogFog4"
      }
    },
    {
      "cell_type": "code",
      "source": [
        "continuar = \"s\"\n",
        "while continuar == \"s\":\n",
        " edad = int(input(\"Edad:\"))\n",
        " if(edad < 0):\n",
        "  print(\"Edad incorrecta\")\n",
        " elif(edad <= 3):\n",
        "  print(\"Bebe\")\n",
        " elif(edad <= 10):\n",
        "  print(\"Niño\")\n",
        " elif(edad <= 17):\n",
        "  print(\"Adolescente\")\n",
        " elif(edad <= 29):\n",
        "  print(\"Joven\")\n",
        " elif(edad <= 39):\n",
        "  print(\"Adulto\")\n",
        " elif(edad <= 59):\n",
        "  print(\"Adulto mayor\")\n",
        " elif(edad <= 120):\n",
        "  print(\"Anciano\")\n",
        " else:\n",
        "   print(\"Edad incorrecta probablemente estes muerto\")\n",
        " continuar = input(\"Continuar? (s/n):\")"
      ],
      "metadata": {
        "id": "CAMtEx4ZFwKP"
      },
      "execution_count": null,
      "outputs": []
    },
    {
      "cell_type": "markdown",
      "source": [
        "Ejercicio: mostrar si el numero que el usuario pone es negativo o positivo"
      ],
      "metadata": {
        "id": "tyY1zGynKQCu"
      }
    },
    {
      "cell_type": "code",
      "source": [
        "num = int(input(\"Num:\"))\n",
        "if(num > 0):\n",
        " print(\"el numero es positivo\")\n",
        "elif(num == 0):\n",
        "  print(\"El numero es neutro\")\n",
        "else:\n",
        "  print(\"El numero es negativo\")"
      ],
      "metadata": {
        "colab": {
          "base_uri": "https://localhost:8080/"
        },
        "id": "YJJRI-e5KX7Z",
        "outputId": "0e000215-8b61-4653-eddf-b3972d6c3850"
      },
      "execution_count": null,
      "outputs": [
        {
          "output_type": "stream",
          "name": "stdout",
          "text": [
            "Num:0\n",
            "El numero es neutro\n"
          ]
        }
      ]
    },
    {
      "cell_type": "markdown",
      "source": [
        "Ejercicio: solicitar una tabla de multiplicar y generarla"
      ],
      "metadata": {
        "id": "dW5x-EH2OM01"
      }
    },
    {
      "cell_type": "code",
      "source": [
        "continuar = \"s\"\n",
        "while continuar == \"s\":\n",
        "  tabla = int(input(\"Tabla:\"))\n",
        "  for i in range(1,11):\n",
        "    print(tabla,\"x\",i,\"=\",tabla*i)\n",
        "  continuar = input(\"Continuar? (s/n):\")"
      ],
      "metadata": {
        "colab": {
          "base_uri": "https://localhost:8080/"
        },
        "id": "a295FdYzOMVb",
        "outputId": "20a87144-07e0-4564-fea3-6d7967e4edfa",
        "collapsed": true
      },
      "execution_count": null,
      "outputs": [
        {
          "name": "stdout",
          "output_type": "stream",
          "text": [
            "Tabla:7\n",
            "7 x 1 = 7\n",
            "7 x 2 = 14\n",
            "7 x 3 = 21\n",
            "7 x 4 = 28\n",
            "7 x 5 = 35\n",
            "7 x 6 = 42\n",
            "7 x 7 = 49\n",
            "7 x 8 = 56\n",
            "7 x 9 = 63\n",
            "7 x 10 = 70\n",
            "Continuar? (s/n):n\n"
          ]
        }
      ]
    },
    {
      "cell_type": "markdown",
      "source": [
        "**Parcial 1**"
      ],
      "metadata": {
        "id": "vDsI3H_QUkx3"
      }
    },
    {
      "cell_type": "code",
      "source": [
        "valores = [\n",
        "           [],\n",
        "           [0,1,1.196,10.7639,0.0001,1.435466894,0.0001434,0.001590330788804]\n",
        "]\n",
        "etiquetas = [\n",
        "           [],\n",
        "           [\"1. Metro cuadrado\",\"2. Yarda cuadrada\",\"3. Pie cuadrado\",\"4. Hectarea\",\"5. Varas cuadradas\",\"6. Manzanas\",\"7. Tareas\"]\n",
        "]\n",
        "def convertir(conversor, de, a, cantidad):\n",
        "  return valores[conversor][a]/valores[conversor][de] * cantidad\n",
        "\n",
        "print(\"*** MENU ***\")\n",
        "print(\"* 1. Area\")\n",
        "\n",
        "\n",
        "\n",
        "conversor = int(input(\"Que quieres utilizar: \"))\n",
        "\n",
        "if conversor < 2:\n",
        "\n",
        "  print( etiquetas[conversor] )\n",
        "\n",
        "\n",
        "\n",
        "  de = int(input(\"DE: \"))\n",
        "  a = int(input(\"A: \"))\n",
        "  cantidad = float(input(\"Cant: \"))\n",
        "\n",
        "  print(\"Respuesta: \", convertir(conversor, de, a, cantidad) )\n",
        "\n",
        "else:\n",
        "  print(\"Ingrese una opcion valida\")"
      ],
      "metadata": {
        "colab": {
          "base_uri": "https://localhost:8080/"
        },
        "id": "_z3hWdNsLIzE",
        "outputId": "dc6e8769-4c8d-444b-ef38-4ab81e014287"
      },
      "execution_count": null,
      "outputs": [
        {
          "output_type": "stream",
          "name": "stdout",
          "text": [
            "*** MENU ***\n",
            "* 1. Area\n"
          ]
        }
      ]
    },
    {
      "cell_type": "code",
      "source": [
        "def calcular_impuesto(monto):\n",
        "\n",
        "    rangos = [\n",
        "        (0.01, 500, 1.5, 0),\n",
        "        (500.01, 1000, 1.5, 3),\n",
        "        (1000.01, 2000, 3, 3),\n",
        "        (2000.01, 3000, 6, 3),\n",
        "        (3000.01, 6000, 9, 2),\n",
        "        (8000.01, 18000, 15, 2),\n",
        "        (18000.01, 30000, 39, 2),\n",
        "        (30000.01, 60000, 63, 1),\n",
        "        (60000.01, 100000, 93, 0.8),\n",
        "        (100000.01, 200000, 125, 0.7),\n",
        "        (200000.01, 300000, 195, 0.6),\n",
        "        (300000.01, 400000, 255, 0.45),\n",
        "        (400000.01, 500000, 300, 0.4),\n",
        "        (500000.01, 1000000, 340, 0.30),\n",
        "        (1000000.01, 99999999, 490, 0.18)\n",
        "    ]\n",
        "\n",
        "    for rango in rangos:\n",
        "        desde, hasta, precio, adicional = rango\n",
        "        if desde <= monto <= hasta:\n",
        "\n",
        "            monto_base = monto - desde\n",
        "            impuesto = (monto_base / 1000) * adicional + precio\n",
        "            return round(impuesto, 2)\n",
        "\n",
        "\n",
        "    return 0\n",
        "\n",
        "\n",
        "def limpiar_entrada(entrada):\n",
        "\n",
        "    entrada = entrada.replace(',', '').replace('$', '').strip()\n",
        "    return entrada\n",
        "\n",
        "\n",
        "try:\n",
        "    entrada = input(\"Ingrese el monto de la actividad económica: \")\n",
        "    monto = float(limpiar_entrada(entrada))\n",
        "    impuesto = calcular_impuesto(monto)\n",
        "    print(f\"El impuesto a pagar es: ${impuesto:.2f}\")\n",
        "except ValueError:\n",
        "    print(\"Por favor, ingrese un valor numérico válido.\")"
      ],
      "metadata": {
        "colab": {
          "base_uri": "https://localhost:8080/"
        },
        "id": "LVM71uvoXsae",
        "outputId": "b0677b8a-13eb-4b32-d9d7-c8e446c3c3d8"
      },
      "execution_count": 39,
      "outputs": [
        {
          "output_type": "stream",
          "name": "stdout",
          "text": [
            "Ingrese el monto de la actividad económica: 1000\n",
            "El impuesto a pagar es: $3.00\n"
          ]
        }
      ]
    },
    {
      "cell_type": "code",
      "source": [
        "continuar = \"s\"\n",
        "\n",
        "# Definición de la base de datos de usuarios\n",
        "usuarios = {\n",
        "    \"1234\": {\"nombre\": \"Juan Pérez\", \"saldo\": 1000},\n",
        "    \"5678\": {\"nombre\": \"Ana Gómez\", \"saldo\": 1500},\n",
        "    \"9101\": {\"nombre\": \"Carlos López\", \"saldo\": 2000}\n",
        "}\n",
        "\n",
        "# Definición de la disponibilidad de billetes y monedas en el cajero\n",
        "cajero = {\n",
        "    100: 10,  # 10 billetes de 100\n",
        "    50: 20,   # 20 billetes de 50\n",
        "    20: 30,   # 30 billetes de 20\n",
        "    10: 50,   # 50 billetes de 10\n",
        "    5: 100,   # 100 monedas de 5\n",
        "    1: 200,   # 200 monedas de 1\n",
        "    0.25: 100, # 100 monedas de 0.25\n",
        "    0.10: 200, # 200 monedas de 0.10\n",
        "    0.05: 300, # 300 monedas de 0.05\n",
        "    0.01: 500  # 500 monedas de 0.01\n",
        "}\n",
        "\n",
        "def mostrar_menu():\n",
        "    print(\"\\n** MENÚ DEL CAJERO AUTOMÁTICO **\")\n",
        "    print(\"1. Consultar saldo\")\n",
        "    print(\"2. Retirar dinero\")\n",
        "    print(\"3. Depositar dinero\")\n",
        "    print(\"4. Salir\")\n",
        "\n",
        "def consultar_saldo(usuario):\n",
        "    print(f\"Tu saldo actual es: ${usuarios[usuario]['saldo']}\")\n",
        "\n",
        "def calcular_billetes_y_monedas(monto):\n",
        "    billetes_monedas_entregados = {}\n",
        "    for valor, cantidad in sorted(cajero.items(), reverse=True):\n",
        "        if monto >= valor:\n",
        "            num_billetes = min(monto // valor, cantidad)\n",
        "            monto -= num_billetes * valor\n",
        "            billetes_monedas_entregados[valor] = num_billetes\n",
        "    return billetes_monedas_entregados if round(monto, 2) == 0 else None\n",
        "\n",
        "def retirar_dinero(usuario):\n",
        "    try:\n",
        "        monto = float(input(\"Ingrese el monto a retirar: $\"))\n",
        "        if monto <= usuarios[usuario]['saldo']:\n",
        "            resultado = calcular_billetes_y_monedas(monto)\n",
        "            if resultado:\n",
        "                usuarios[usuario]['saldo'] -= monto\n",
        "                print(f\"Retiraste ${monto}. Tu saldo actual es: ${usuarios[usuario]['saldo']}\")\n",
        "                print(\"Recibiste:\")\n",
        "                for valor, cantidad in resultado.items():\n",
        "                    cajero[valor] -= cantidad\n",
        "                    print(f\"{cantidad} billetes/monedas de ${valor}\")\n",
        "            else:\n",
        "                print(\"El cajero no tiene suficientes billetes o monedas para esta transacción.\")\n",
        "        else:\n",
        "            print(\"Saldo insuficiente\")\n",
        "    except ValueError:\n",
        "        print(\"Por favor, ingrese un monto válido.\")\n",
        "\n",
        "def depositar_dinero(usuario):\n",
        "    try:\n",
        "        monto_total = 0\n",
        "        for valor in sorted([100, 50, 20, 10, 5, 1], reverse=True):\n",
        "            cantidad = int(input(f\"Ingrese la cantidad de billetes/monedas de ${valor} a depositar: \"))\n",
        "            cajero[valor] += cantidad\n",
        "            monto_total += valor * cantidad\n",
        "\n",
        "        usuarios[usuario]['saldo'] += monto_total\n",
        "        print(f\"Depositaste ${monto_total}. Tu saldo actual es: ${usuarios[usuario]['saldo']}\")\n",
        "    except ValueError:\n",
        "        print(\"Por favor, ingrese una cantidad válida.\")\n",
        "\n",
        "def retirar_monedas(usuario):\n",
        "    try:\n",
        "        monto = float(input(\"Ingrese el monto de monedas a retirar (0.25, 0.10, 0.05, 0.01): $\"))\n",
        "        if monto in [0.25, 0.10, 0.05, 0.01] and monto <= usuarios[usuario]['saldo']:\n",
        "            cantidad = int(input(f\"Ingrese la cantidad de monedas de ${monto} a retirar: \"))\n",
        "            if cantidad <= cajero[monto]:\n",
        "                cajero[monto] -= cantidad\n",
        "                usuarios[usuario]['saldo'] -= round(monto * cantidad, 2)\n",
        "                print(f\"Retiraste {cantidad} monedas de ${monto}. Tu saldo actual es: ${usuarios[usuario]['saldo']}\")\n",
        "            else:\n",
        "                print(f\"No hay suficientes monedas de ${monto} en el cajero.\")\n",
        "        else:\n",
        "            print(\"Saldo insuficiente o monto no válido.\")\n",
        "    except ValueError:\n",
        "        print(\"Por favor, ingrese una cantidad válida.\")\n",
        "\n",
        "def ingresar_monedas(usuario):\n",
        "    try:\n",
        "        monto_total = 0\n",
        "        for valor in [0.25, 0.10, 0.05, 0.01]:\n",
        "            cantidad = int(input(f\"Ingrese la cantidad de monedas de ${valor} a depositar: \"))\n",
        "            cajero[valor] += cantidad\n",
        "            monto_total += round(valor * cantidad, 2)\n",
        "\n",
        "        usuarios[usuario]['saldo'] += monto_total\n",
        "        print(f\"Depositaste ${monto_total} en monedas. Tu saldo actual es: ${usuarios[usuario]['saldo']}\")\n",
        "    except ValueError:\n",
        "        print(\"Por favor, ingrese una cantidad válida.\")\n",
        "\n",
        "def iniciar_sesion():\n",
        "    intentos = 3\n",
        "    while intentos > 0:\n",
        "        pin = input(\"Ingrese su PIN: \").strip()\n",
        "        if pin in usuarios:\n",
        "            return pin\n",
        "        else:\n",
        "            intentos -= 1\n",
        "            print(f\"PIN incorrecto. Te quedan {intentos} intentos.\")\n",
        "    print(\"Número máximo de intentos alcanzado. Inténtelo de nuevo más tarde.\")\n",
        "    return None\n",
        "\n",
        "def cajero_automatico():\n",
        "    usuario = iniciar_sesion()\n",
        "    if usuario:\n",
        "        while True:\n",
        "            mostrar_menu()\n",
        "            opcion = input(\"Seleccione una opción: \").strip()\n",
        "            if opcion == \"1\":\n",
        "                consultar_saldo(usuario)\n",
        "            elif opcion == \"2\":\n",
        "                retirar_dinero(usuario)\n",
        "                retirar_monedas(usuario)  # Añadido para permitir también retirar monedas fraccionarias\n",
        "            elif opcion == \"3\":\n",
        "                depositar_dinero(usuario)\n",
        "                ingresar_monedas(usuario)  # Añadido para permitir también ingresar monedas fraccionarias\n",
        "            elif opcion == \"4\":\n",
        "                print(\"Gracias por usar el cajero automático. ¡Hasta luego!\")\n",
        "                break\n",
        "            else:\n",
        "                print(\"Opción no válida. Por favor, seleccione una opción del menú.\")\n",
        "\n",
        "# Bucle principal para repetir el programa según la elección del usuario\n",
        "while continuar == \"s\":\n",
        "    cajero_automatico()\n",
        "    continuar = input(\"¿Desea realizar otra operación? (s/n): \").strip().lower()\n",
        "\n",
        "print(\"Fin del programa.\")"
      ],
      "metadata": {
        "colab": {
          "base_uri": "https://localhost:8080/",
          "height": 998
        },
        "id": "jV8iRdD8YnLP",
        "outputId": "1fde626e-0871-410e-cac2-7c64c257c473"
      },
      "execution_count": 40,
      "outputs": [
        {
          "output_type": "stream",
          "name": "stdout",
          "text": [
            "Ingrese su PIN: 1234\n",
            "\n",
            "** MENÚ DEL CAJERO AUTOMÁTICO **\n",
            "1. Consultar saldo\n",
            "2. Retirar dinero\n",
            "3. Depositar dinero\n",
            "4. Salir\n",
            "Seleccione una opción: 3\n",
            "Ingrese la cantidad de billetes/monedas de $100 a depositar: 1\n",
            "Ingrese la cantidad de billetes/monedas de $50 a depositar: 1\n",
            "Ingrese la cantidad de billetes/monedas de $20 a depositar: 1\n",
            "Ingrese la cantidad de billetes/monedas de $10 a depositar: 1\n",
            "Ingrese la cantidad de billetes/monedas de $5 a depositar: 1\n",
            "Ingrese la cantidad de billetes/monedas de $1 a depositar: 1\n",
            "Depositaste $186. Tu saldo actual es: $1186\n",
            "Ingrese la cantidad de monedas de $0.25 a depositar: 3\n",
            "Ingrese la cantidad de monedas de $0.1 a depositar: 2\n",
            "Ingrese la cantidad de monedas de $0.05 a depositar: 1\n",
            "Ingrese la cantidad de monedas de $0.01 a depositar: 3\n",
            "Depositaste $1.03 en monedas. Tu saldo actual es: $1187.03\n",
            "\n",
            "** MENÚ DEL CAJERO AUTOMÁTICO **\n",
            "1. Consultar saldo\n",
            "2. Retirar dinero\n",
            "3. Depositar dinero\n",
            "4. Salir\n",
            "Seleccione una opción: 2\n",
            "Ingrese el monto a retirar: $187.03\n",
            "Retiraste $187.03. Tu saldo actual es: $1000.0\n",
            "Recibiste:\n",
            "1.0 billetes/monedas de $100\n",
            "1.0 billetes/monedas de $50\n",
            "1.0 billetes/monedas de $20\n",
            "1.0 billetes/monedas de $10\n",
            "1.0 billetes/monedas de $5\n",
            "2.0 billetes/monedas de $1\n",
            "3.0 billetes/monedas de $0.01\n"
          ]
        },
        {
          "output_type": "error",
          "ename": "KeyboardInterrupt",
          "evalue": "Interrupted by user",
          "traceback": [
            "\u001b[0;31m---------------------------------------------------------------------------\u001b[0m",
            "\u001b[0;31mKeyboardInterrupt\u001b[0m                         Traceback (most recent call last)",
            "\u001b[0;32m<ipython-input-40-83aadd8f6e84>\u001b[0m in \u001b[0;36m<cell line: 137>\u001b[0;34m()\u001b[0m\n\u001b[1;32m    136\u001b[0m \u001b[0;31m# Bucle principal para repetir el programa según la elección del usuario\u001b[0m\u001b[0;34m\u001b[0m\u001b[0;34m\u001b[0m\u001b[0m\n\u001b[1;32m    137\u001b[0m \u001b[0;32mwhile\u001b[0m \u001b[0mcontinuar\u001b[0m \u001b[0;34m==\u001b[0m \u001b[0;34m\"s\"\u001b[0m\u001b[0;34m:\u001b[0m\u001b[0;34m\u001b[0m\u001b[0;34m\u001b[0m\u001b[0m\n\u001b[0;32m--> 138\u001b[0;31m     \u001b[0mcajero_automatico\u001b[0m\u001b[0;34m(\u001b[0m\u001b[0;34m)\u001b[0m\u001b[0;34m\u001b[0m\u001b[0;34m\u001b[0m\u001b[0m\n\u001b[0m\u001b[1;32m    139\u001b[0m     \u001b[0mcontinuar\u001b[0m \u001b[0;34m=\u001b[0m \u001b[0minput\u001b[0m\u001b[0;34m(\u001b[0m\u001b[0;34m\"¿Desea realizar otra operación? (s/n): \"\u001b[0m\u001b[0;34m)\u001b[0m\u001b[0;34m.\u001b[0m\u001b[0mstrip\u001b[0m\u001b[0;34m(\u001b[0m\u001b[0;34m)\u001b[0m\u001b[0;34m.\u001b[0m\u001b[0mlower\u001b[0m\u001b[0;34m(\u001b[0m\u001b[0;34m)\u001b[0m\u001b[0;34m\u001b[0m\u001b[0;34m\u001b[0m\u001b[0m\n\u001b[1;32m    140\u001b[0m \u001b[0;34m\u001b[0m\u001b[0m\n",
            "\u001b[0;32m<ipython-input-40-83aadd8f6e84>\u001b[0m in \u001b[0;36mcajero_automatico\u001b[0;34m()\u001b[0m\n\u001b[1;32m    124\u001b[0m             \u001b[0;32melif\u001b[0m \u001b[0mopcion\u001b[0m \u001b[0;34m==\u001b[0m \u001b[0;34m\"2\"\u001b[0m\u001b[0;34m:\u001b[0m\u001b[0;34m\u001b[0m\u001b[0;34m\u001b[0m\u001b[0m\n\u001b[1;32m    125\u001b[0m                 \u001b[0mretirar_dinero\u001b[0m\u001b[0;34m(\u001b[0m\u001b[0musuario\u001b[0m\u001b[0;34m)\u001b[0m\u001b[0;34m\u001b[0m\u001b[0;34m\u001b[0m\u001b[0m\n\u001b[0;32m--> 126\u001b[0;31m                 \u001b[0mretirar_monedas\u001b[0m\u001b[0;34m(\u001b[0m\u001b[0musuario\u001b[0m\u001b[0;34m)\u001b[0m  \u001b[0;31m# Añadido para permitir también retirar monedas fraccionarias\u001b[0m\u001b[0;34m\u001b[0m\u001b[0;34m\u001b[0m\u001b[0m\n\u001b[0m\u001b[1;32m    127\u001b[0m             \u001b[0;32melif\u001b[0m \u001b[0mopcion\u001b[0m \u001b[0;34m==\u001b[0m \u001b[0;34m\"3\"\u001b[0m\u001b[0;34m:\u001b[0m\u001b[0;34m\u001b[0m\u001b[0;34m\u001b[0m\u001b[0m\n\u001b[1;32m    128\u001b[0m                 \u001b[0mdepositar_dinero\u001b[0m\u001b[0;34m(\u001b[0m\u001b[0musuario\u001b[0m\u001b[0;34m)\u001b[0m\u001b[0;34m\u001b[0m\u001b[0;34m\u001b[0m\u001b[0m\n",
            "\u001b[0;32m<ipython-input-40-83aadd8f6e84>\u001b[0m in \u001b[0;36mretirar_monedas\u001b[0;34m(usuario)\u001b[0m\n\u001b[1;32m     75\u001b[0m \u001b[0;32mdef\u001b[0m \u001b[0mretirar_monedas\u001b[0m\u001b[0;34m(\u001b[0m\u001b[0musuario\u001b[0m\u001b[0;34m)\u001b[0m\u001b[0;34m:\u001b[0m\u001b[0;34m\u001b[0m\u001b[0;34m\u001b[0m\u001b[0m\n\u001b[1;32m     76\u001b[0m     \u001b[0;32mtry\u001b[0m\u001b[0;34m:\u001b[0m\u001b[0;34m\u001b[0m\u001b[0;34m\u001b[0m\u001b[0m\n\u001b[0;32m---> 77\u001b[0;31m         \u001b[0mmonto\u001b[0m \u001b[0;34m=\u001b[0m \u001b[0mfloat\u001b[0m\u001b[0;34m(\u001b[0m\u001b[0minput\u001b[0m\u001b[0;34m(\u001b[0m\u001b[0;34m\"Ingrese el monto de monedas a retirar (0.25, 0.10, 0.05, 0.01): $\"\u001b[0m\u001b[0;34m)\u001b[0m\u001b[0;34m)\u001b[0m\u001b[0;34m\u001b[0m\u001b[0;34m\u001b[0m\u001b[0m\n\u001b[0m\u001b[1;32m     78\u001b[0m         \u001b[0;32mif\u001b[0m \u001b[0mmonto\u001b[0m \u001b[0;32min\u001b[0m \u001b[0;34m[\u001b[0m\u001b[0;36m0.25\u001b[0m\u001b[0;34m,\u001b[0m \u001b[0;36m0.10\u001b[0m\u001b[0;34m,\u001b[0m \u001b[0;36m0.05\u001b[0m\u001b[0;34m,\u001b[0m \u001b[0;36m0.01\u001b[0m\u001b[0;34m]\u001b[0m \u001b[0;32mand\u001b[0m \u001b[0mmonto\u001b[0m \u001b[0;34m<=\u001b[0m \u001b[0musuarios\u001b[0m\u001b[0;34m[\u001b[0m\u001b[0musuario\u001b[0m\u001b[0;34m]\u001b[0m\u001b[0;34m[\u001b[0m\u001b[0;34m'saldo'\u001b[0m\u001b[0;34m]\u001b[0m\u001b[0;34m:\u001b[0m\u001b[0;34m\u001b[0m\u001b[0;34m\u001b[0m\u001b[0m\n\u001b[1;32m     79\u001b[0m             \u001b[0mcantidad\u001b[0m \u001b[0;34m=\u001b[0m \u001b[0mint\u001b[0m\u001b[0;34m(\u001b[0m\u001b[0minput\u001b[0m\u001b[0;34m(\u001b[0m\u001b[0;34mf\"Ingrese la cantidad de monedas de ${monto} a retirar: \"\u001b[0m\u001b[0;34m)\u001b[0m\u001b[0;34m)\u001b[0m\u001b[0;34m\u001b[0m\u001b[0;34m\u001b[0m\u001b[0m\n",
            "\u001b[0;32m/usr/local/lib/python3.10/dist-packages/ipykernel/kernelbase.py\u001b[0m in \u001b[0;36mraw_input\u001b[0;34m(self, prompt)\u001b[0m\n\u001b[1;32m    849\u001b[0m                 \u001b[0;34m\"raw_input was called, but this frontend does not support input requests.\"\u001b[0m\u001b[0;34m\u001b[0m\u001b[0;34m\u001b[0m\u001b[0m\n\u001b[1;32m    850\u001b[0m             )\n\u001b[0;32m--> 851\u001b[0;31m         return self._input_request(str(prompt),\n\u001b[0m\u001b[1;32m    852\u001b[0m             \u001b[0mself\u001b[0m\u001b[0;34m.\u001b[0m\u001b[0m_parent_ident\u001b[0m\u001b[0;34m,\u001b[0m\u001b[0;34m\u001b[0m\u001b[0;34m\u001b[0m\u001b[0m\n\u001b[1;32m    853\u001b[0m             \u001b[0mself\u001b[0m\u001b[0;34m.\u001b[0m\u001b[0m_parent_header\u001b[0m\u001b[0;34m,\u001b[0m\u001b[0;34m\u001b[0m\u001b[0;34m\u001b[0m\u001b[0m\n",
            "\u001b[0;32m/usr/local/lib/python3.10/dist-packages/ipykernel/kernelbase.py\u001b[0m in \u001b[0;36m_input_request\u001b[0;34m(self, prompt, ident, parent, password)\u001b[0m\n\u001b[1;32m    893\u001b[0m             \u001b[0;32mexcept\u001b[0m \u001b[0mKeyboardInterrupt\u001b[0m\u001b[0;34m:\u001b[0m\u001b[0;34m\u001b[0m\u001b[0;34m\u001b[0m\u001b[0m\n\u001b[1;32m    894\u001b[0m                 \u001b[0;31m# re-raise KeyboardInterrupt, to truncate traceback\u001b[0m\u001b[0;34m\u001b[0m\u001b[0;34m\u001b[0m\u001b[0m\n\u001b[0;32m--> 895\u001b[0;31m                 \u001b[0;32mraise\u001b[0m \u001b[0mKeyboardInterrupt\u001b[0m\u001b[0;34m(\u001b[0m\u001b[0;34m\"Interrupted by user\"\u001b[0m\u001b[0;34m)\u001b[0m \u001b[0;32mfrom\u001b[0m \u001b[0;32mNone\u001b[0m\u001b[0;34m\u001b[0m\u001b[0;34m\u001b[0m\u001b[0m\n\u001b[0m\u001b[1;32m    896\u001b[0m             \u001b[0;32mexcept\u001b[0m \u001b[0mException\u001b[0m \u001b[0;32mas\u001b[0m \u001b[0me\u001b[0m\u001b[0;34m:\u001b[0m\u001b[0;34m\u001b[0m\u001b[0;34m\u001b[0m\u001b[0m\n\u001b[1;32m    897\u001b[0m                 \u001b[0mself\u001b[0m\u001b[0;34m.\u001b[0m\u001b[0mlog\u001b[0m\u001b[0;34m.\u001b[0m\u001b[0mwarning\u001b[0m\u001b[0;34m(\u001b[0m\u001b[0;34m\"Invalid Message:\"\u001b[0m\u001b[0;34m,\u001b[0m \u001b[0mexc_info\u001b[0m\u001b[0;34m=\u001b[0m\u001b[0;32mTrue\u001b[0m\u001b[0;34m)\u001b[0m\u001b[0;34m\u001b[0m\u001b[0;34m\u001b[0m\u001b[0m\n",
            "\u001b[0;31mKeyboardInterrupt\u001b[0m: Interrupted by user"
          ]
        }
      ]
    }
  ]
}