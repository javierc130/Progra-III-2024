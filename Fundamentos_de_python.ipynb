{
  "nbformat": 4,
  "nbformat_minor": 0,
  "metadata": {
    "colab": {
      "provenance": [],
      "authorship_tag": "ABX9TyNO7xdfwAIRHLrmkEAp6baD",
      "include_colab_link": true
    },
    "kernelspec": {
      "name": "python3",
      "display_name": "Python 3"
    },
    "language_info": {
      "name": "python"
    }
  },
  "cells": [
    {
      "cell_type": "markdown",
      "metadata": {
        "id": "view-in-github",
        "colab_type": "text"
      },
      "source": [
        "<a href=\"https://colab.research.google.com/github/javierc130/Progra-III-2024/blob/main/Fundamentos_de_python.ipynb\" target=\"_parent\"><img src=\"https://colab.research.google.com/assets/colab-badge.svg\" alt=\"Open In Colab\"/></a>"
      ]
    },
    {
      "cell_type": "code",
      "execution_count": null,
      "metadata": {
        "colab": {
          "base_uri": "https://localhost:8080/"
        },
        "id": "VdJjSrCx4Zts",
        "outputId": "06c1a4b9-f860-4525-9828-4ff4523bcd6a"
      },
      "outputs": [
        {
          "output_type": "stream",
          "name": "stdout",
          "text": [
            "Hello, World\n",
            "Hola Javier Navarro , iniciales:  J N\n"
          ]
        }
      ],
      "source": [
        "print(\"Hello, World\")\n",
        "nombre = \"Javier Navarro\"\n",
        "\n",
        "print(\"Hola\", nombre, \", iniciales: \", nombre[0], nombre[7])"
      ]
    },
    {
      "cell_type": "markdown",
      "source": [
        "*EJERCICIO* Crear un programa en python que sume 2 numeros"
      ],
      "metadata": {
        "id": "WeLtD7PI9dry"
      }
    },
    {
      "cell_type": "code",
      "source": [
        "num1 = 5\n",
        "num2 = 9.5\n",
        "resp = num1 + num2\n",
        "print(\"La suma es:\", resp)"
      ],
      "metadata": {
        "colab": {
          "base_uri": "https://localhost:8080/"
        },
        "id": "BOB040Vj9aF1",
        "outputId": "49539da1-ace2-4a53-c803-f3351beaf8aa"
      },
      "execution_count": null,
      "outputs": [
        {
          "output_type": "stream",
          "name": "stdout",
          "text": [
            "La suma es: 14.5\n"
          ]
        }
      ]
    },
    {
      "cell_type": "markdown",
      "source": [
        "EJERCICIO Crear un programa en python que sume 2 numeros producidos por el usuario"
      ],
      "metadata": {
        "id": "ZY4dO8gH_NxP"
      }
    },
    {
      "cell_type": "code",
      "source": [
        "print(\"num1\")\n",
        "num1 = float(input())\n",
        "\n",
        "print(\"num2\")\n",
        "num2 = float(input())\n",
        "\n",
        "resp = num1 + num2\n",
        "print(\"La suma es:\", resp)"
      ],
      "metadata": {
        "colab": {
          "base_uri": "https://localhost:8080/"
        },
        "collapsed": true,
        "id": "5bvQ5w-J_UeV",
        "outputId": "648f47a3-80b9-4748-9956-6174998cb0ef"
      },
      "execution_count": null,
      "outputs": [
        {
          "output_type": "stream",
          "name": "stdout",
          "text": [
            "num1\n",
            "2\n",
            "num2\n",
            "6\n",
            "La suma es: 8.0\n"
          ]
        }
      ]
    },
    {
      "cell_type": "code",
      "source": [
        "#Tipos de datos\n",
        "num1 = 5\n",
        "num2 = 5.9\n",
        "nombre = \"Javier Navarro\"\n",
        "print(nombre[0:6], nombre[:6], nombre[-1:], nombre[6:len(nombre)])\n",
        "\n",
        "estado = True\n",
        "print(estado)\n",
        "\n",
        "print(type(nombre), type(num1), type(num2), type(estado))\n"
      ],
      "metadata": {
        "id": "Jqv7IfEkCFdv",
        "colab": {
          "base_uri": "https://localhost:8080/"
        },
        "outputId": "1888b194-48a5-42ae-8935-0e7502930f3c"
      },
      "execution_count": null,
      "outputs": [
        {
          "output_type": "stream",
          "name": "stdout",
          "text": [
            "Javier Javier o  Navarro\n",
            "True\n",
            "<class 'str'> <class 'int'> <class 'float'> <class 'bool'>\n"
          ]
        }
      ]
    },
    {
      "cell_type": "markdown",
      "source": [
        "crear un programa en python que lea un numero y determine si es par o impar"
      ],
      "metadata": {
        "id": "1CR7XM-6Eolj"
      }
    },
    {
      "cell_type": "code",
      "source": [
        "num = int(input(\"Ingrese un numero:\"))\n",
        "if num % 2 == 0:\n",
        " print(\"El numero es par\")\n",
        "else:\n",
        " print(\"el numero es impar\")"
      ],
      "metadata": {
        "colab": {
          "base_uri": "https://localhost:8080/"
        },
        "id": "8BULpuNnEwx0",
        "outputId": "ccfc0000-0319-422d-845a-c18e93efe4a8"
      },
      "execution_count": null,
      "outputs": [
        {
          "output_type": "stream",
          "name": "stdout",
          "text": [
            "Ingrese un numero:8\n",
            "El numero es par\n"
          ]
        }
      ]
    },
    {
      "cell_type": "markdown",
      "source": [
        "Ejercicio: uso de las funciones de usuario con la suma de 2 numeros"
      ],
      "metadata": {
        "id": "ju8uHURiabVw"
      }
    },
    {
      "cell_type": "code",
      "source": [
        " def suma(num1, num2):\n",
        "  return num1 + num2"
      ],
      "metadata": {
        "id": "pA-UaN3RbJz0"
      },
      "execution_count": null,
      "outputs": []
    },
    {
      "cell_type": "code",
      "source": [
        "  num1 = float(input(\"num 1:\"))\n",
        "  num2 = float(input(\"num 2:\"))\n",
        "  resp = suma(num1, num2)\n",
        "  print(\"La suma es:\", resp)"
      ],
      "metadata": {
        "colab": {
          "base_uri": "https://localhost:8080/"
        },
        "id": "NpzXyIofYHSO",
        "outputId": "f965fa66-1330-469d-a7d9-24790b6fd597"
      },
      "execution_count": null,
      "outputs": [
        {
          "output_type": "stream",
          "name": "stdout",
          "text": [
            "num 1:2\n",
            "num 2:2\n",
            "La suma es: 4.0\n"
          ]
        }
      ]
    },
    {
      "cell_type": "markdown",
      "source": [
        "Ejercio: convertir grados celsius a farenheit, usando funciones de ususario"
      ],
      "metadata": {
        "id": "NtIku3QGbQaS"
      }
    },
    {
      "cell_type": "code",
      "source": [
        "def convertir_cf(c):\n",
        "  return c * 1.8 + 32"
      ],
      "metadata": {
        "id": "PxdGZLsgbY__"
      },
      "execution_count": null,
      "outputs": []
    },
    {
      "cell_type": "code",
      "source": [
        "c = float(input(\"Celsius:\"))\n",
        "print(\"Farenheit:\", convertir_cf(c))"
      ],
      "metadata": {
        "id": "nDRMCG6ibsIE"
      },
      "execution_count": null,
      "outputs": []
    },
    {
      "cell_type": "markdown",
      "source": [
        "Ejercicio: determina si un numero es par o impar"
      ],
      "metadata": {
        "id": "KutqW--qfLAY"
      }
    },
    {
      "cell_type": "code",
      "source": [
        "def par_impar(num):\n",
        "    if(num % 2 == 0):\n",
        "      return \"par\"\n",
        "    return \"impar\""
      ],
      "metadata": {
        "id": "qEA50AfbfQ2D"
      },
      "execution_count": null,
      "outputs": []
    },
    {
      "cell_type": "code",
      "source": [
        "num = int(input(\"Num:\"))\n",
        "print(\"el numero\",num, \"es\", par_impar(num))"
      ],
      "metadata": {
        "colab": {
          "base_uri": "https://localhost:8080/"
        },
        "id": "EyfsCCKSf2n5",
        "outputId": "87350231-56c0-41cf-e67a-2ac5f3b19da1"
      },
      "execution_count": null,
      "outputs": [
        {
          "output_type": "stream",
          "name": "stdout",
          "text": [
            "Num:2\n",
            "el numero 2 es par\n"
          ]
        }
      ]
    },
    {
      "cell_type": "markdown",
      "source": [
        "**Tarea para el miercoles:**\n",
        "1. Convertir grados farenheit a celsius\n",
        "2. Convertir grados (Farenheit y celsius) a Kelvin\n"
      ],
      "metadata": {
        "id": "-IkNujjZhByT"
      }
    },
    {
      "cell_type": "markdown",
      "source": [
        "Farenheit a celcius"
      ],
      "metadata": {
        "id": "nuuCQrgHex72"
      }
    },
    {
      "cell_type": "code",
      "source": [
        "def convertir_cf(f):\n",
        "  return (f - 32) / 1.8"
      ],
      "metadata": {
        "id": "7xudpkEneLpF"
      },
      "execution_count": null,
      "outputs": []
    },
    {
      "cell_type": "code",
      "source": [
        "f = float(input(\"Farenheit:\"))\n",
        "print(\"Celsius:\", convertir_cf(f))"
      ],
      "metadata": {
        "id": "sb9v-ZabeYGe"
      },
      "execution_count": null,
      "outputs": []
    },
    {
      "cell_type": "markdown",
      "source": [
        "Ferenheit y Celsius a Kelvin"
      ],
      "metadata": {
        "id": "7mAkiXUae1l3"
      }
    },
    {
      "cell_type": "code",
      "source": [
        "def convertir_fk(f):\n",
        "  return (f + 459.67) * 5/9\n",
        "\n",
        "def convertir_ck(c):\n",
        "  return c + 273.15\n",
        "\n",
        "def covertir_rk(r):\n",
        "  return r * 5/9"
      ],
      "metadata": {
        "id": "9hxAP7TvfARF"
      },
      "execution_count": null,
      "outputs": []
    },
    {
      "cell_type": "code",
      "source": [
        "f = float(input(\"Farenheit:\"))\n",
        "print(\"Kelvin:\", convertir_fk(f))\n",
        "\n",
        "c = float(input(\"Celsius:\"))\n",
        "print(\"Kelvin:\", convertir_ck(c))\n",
        "\n",
        "r = float(input(\"Rankine:\"))\n",
        "print(\"Kelvin:\", covertir_rk(r))"
      ],
      "metadata": {
        "id": "ZzP7jH6kfFok"
      },
      "execution_count": null,
      "outputs": []
    },
    {
      "cell_type": "markdown",
      "source": [
        "Ejercicio: calcular el sueldo de un trabajador"
      ],
      "metadata": {
        "id": "AuFz6t9uhqsq"
      }
    },
    {
      "cell_type": "code",
      "source": [
        "def sueldo(numHrs, valorHrs):\n",
        "  sueldo = numHrs * valorHrs *30\n",
        "  if(numHrs > 8):\n",
        "    sueldo = sueldo + (numHrs - 8) * valorHrs * 30\n",
        "  return sueldo"
      ],
      "metadata": {
        "id": "6BFcg_l4hvvd"
      },
      "execution_count": null,
      "outputs": []
    },
    {
      "cell_type": "code",
      "source": [
        "numHrs = int(input(\"Horas:\"))\n",
        "valorHrs = float(input(\"Valor:\"))\n",
        "print(\"Sueldo Mensual:\", sueldo(numHrs, valorHrs))"
      ],
      "metadata": {
        "colab": {
          "base_uri": "https://localhost:8080/"
        },
        "id": "frSrFLPzh-MJ",
        "outputId": "f6061e3d-a33b-489f-c650-a344388eaeb4"
      },
      "execution_count": null,
      "outputs": [
        {
          "output_type": "stream",
          "name": "stdout",
          "text": [
            "Horas:2\n",
            "Valor:3\n",
            "Sueldo Mensual: 180.0\n"
          ]
        }
      ]
    },
    {
      "cell_type": "markdown",
      "source": [
        "Ejercicio: elevar un numero al cuadrado"
      ],
      "metadata": {
        "id": "Nl6ChjUp56FN"
      }
    },
    {
      "cell_type": "code",
      "source": [
        "def elevar_cuadrado(base=0, exponente=2):\n",
        "  return base**exponente"
      ],
      "metadata": {
        "id": "YG0ZFAM66InC"
      },
      "execution_count": null,
      "outputs": []
    },
    {
      "cell_type": "code",
      "source": [
        "num = int (input(\"Num:\"))\n",
        "print(\"Cuadrado:\", elevar_cuadrado(num, 3))"
      ],
      "metadata": {
        "colab": {
          "base_uri": "https://localhost:8080/"
        },
        "id": "oq0qXtye6bTr",
        "outputId": "241aa0b6-0fde-40dd-8ef3-fe561dfcb43b"
      },
      "execution_count": null,
      "outputs": [
        {
          "output_type": "stream",
          "name": "stdout",
          "text": [
            "Num:3\n",
            "Cuadrado: 27\n"
          ]
        }
      ]
    },
    {
      "cell_type": "markdown",
      "source": [
        "Ejercicio: Usando Funciones Lambda"
      ],
      "metadata": {
        "id": "qzaDOwbO8F-s"
      }
    },
    {
      "cell_type": "code",
      "source": [
        "elevar_cuadrado_lambda = lambda Base, Exponente: Base**Exponente"
      ],
      "metadata": {
        "id": "nuDQkpsT8DsI"
      },
      "execution_count": null,
      "outputs": []
    },
    {
      "cell_type": "code",
      "source": [
        "valor = int (input(\"Num:\"))\n",
        "print(\"Cuadrado:\", elevar_cuadrado_lambda(valor, 2))"
      ],
      "metadata": {
        "colab": {
          "base_uri": "https://localhost:8080/"
        },
        "id": "OB3FN8ek86Oh",
        "outputId": "f06cde81-538b-4338-bbdb-690bce83cc41"
      },
      "execution_count": null,
      "outputs": [
        {
          "output_type": "stream",
          "name": "stdout",
          "text": [
            "Num:3\n",
            "Cuadrado: 9\n"
          ]
        }
      ]
    },
    {
      "cell_type": "code",
      "source": [
        "serie = [5,4,3,2,6,7]\n",
        "resp = map(lambda x: x**2, serie)\n",
        "print(list(resp))\n",
        "\n",
        "resp2 = map(elevar_cuadrado, serie)\n",
        "print(list(resp2))"
      ],
      "metadata": {
        "colab": {
          "base_uri": "https://localhost:8080/"
        },
        "id": "UzC9diLp_elk",
        "outputId": "764cb2f0-4474-42c9-fe37-60ef04a91b38"
      },
      "execution_count": null,
      "outputs": [
        {
          "output_type": "stream",
          "name": "stdout",
          "text": [
            "[25, 16, 9, 4, 36, 49]\n",
            "[25, 16, 9, 4, 36, 49]\n"
          ]
        }
      ]
    },
    {
      "cell_type": "markdown",
      "source": [
        "Ejercicio: obtener una raiz cuadrada de un serie de numeros fijos"
      ],
      "metadata": {
        "id": "CdqmHqzaDNjj"
      }
    },
    {
      "cell_type": "code",
      "source": [
        "serie = [5,4,3,2,6,7]\n",
        "resp = map(lambda x: x**0.5, serie)\n",
        "print(list(resp))"
      ],
      "metadata": {
        "colab": {
          "base_uri": "https://localhost:8080/"
        },
        "id": "MGmPHhXODUGH",
        "outputId": "c309f49f-3b1b-4eb2-ecbd-7d5229a2cb16"
      },
      "execution_count": null,
      "outputs": [
        {
          "output_type": "stream",
          "name": "stdout",
          "text": [
            "[2.23606797749979, 2.0, 1.7320508075688772, 1.4142135623730951, 2.449489742783178, 2.6457513110645907]\n"
          ]
        }
      ]
    },
    {
      "cell_type": "markdown",
      "source": [
        "Ejercicio con funciones preconstruidas en python\n",
        "\n",
        "*   MAP\n",
        "\n"
      ],
      "metadata": {
        "id": "7-9W03eybcoX"
      }
    },
    {
      "cell_type": "code",
      "source": [
        "numeros = [1,2,3,4,5,6,7,8,9]\n",
        "print(list(map(lambda n: n*2, numeros)))"
      ],
      "metadata": {
        "colab": {
          "base_uri": "https://localhost:8080/"
        },
        "id": "Ko7DOYhgbmM5",
        "outputId": "030e3982-242e-4ce8-c342-9b8b2f343b03"
      },
      "execution_count": 1,
      "outputs": [
        {
          "output_type": "stream",
          "name": "stdout",
          "text": [
            "[2, 4, 6, 8, 10, 12, 14, 16, 18]\n"
          ]
        }
      ]
    },
    {
      "cell_type": "code",
      "source": [
        "numeros = [1,2,3,4,5,6,7,8,9,10]\n",
        "ntabla = int(input(\"Tabla:\"))\n",
        "print(list(map(lambda n: n*ntabla, numeros)))"
      ],
      "metadata": {
        "colab": {
          "base_uri": "https://localhost:8080/"
        },
        "id": "dNvnTtMXb95s",
        "outputId": "5fee88aa-d765-417d-e1b2-d572ebf0a0b8"
      },
      "execution_count": 9,
      "outputs": [
        {
          "output_type": "stream",
          "name": "stdout",
          "text": [
            "Tabla:10\n",
            "[10, 20, 30, 40, 50, 60, 70, 80, 90, 100]\n"
          ]
        }
      ]
    },
    {
      "cell_type": "markdown",
      "source": [
        "Ejercicio con funciones preconstruidas en python\n",
        "\n",
        "* FILTER\n",
        "\n"
      ],
      "metadata": {
        "id": "NQ17i7TRc073"
      }
    },
    {
      "cell_type": "code",
      "source": [
        "numeros = [1,2,3,4,5,6,7,8,9,10]\n",
        "print(\"Pares:\",list(filter(lambda n: n%2 == 0, numeros)))#obtener solo pares\n",
        "\n",
        "print(\"Impares:\",list(filter(lambda n: n%2 != 0, numeros))) #solo numeros impares\n"
      ],
      "metadata": {
        "colab": {
          "base_uri": "https://localhost:8080/"
        },
        "id": "OQx_1A_UdAL_",
        "outputId": "a23f21dd-debc-403e-b859-99c3a0b45c89"
      },
      "execution_count": 13,
      "outputs": [
        {
          "output_type": "stream",
          "name": "stdout",
          "text": [
            "Pares: [2, 4, 6, 8, 10]\n",
            "Impares: [1, 3, 5, 7, 9]\n"
          ]
        }
      ]
    },
    {
      "cell_type": "code",
      "source": [
        "notas = [8,9,10,7,6,9,10,2,3,1,8,9,2,4]\n",
        "print(\"Aprobados:\",list(filter(lambda n: n>=6, notas)))\n",
        "print(\"Reprobados:\",list(filter(lambda n: n<6, notas)))"
      ],
      "metadata": {
        "colab": {
          "base_uri": "https://localhost:8080/"
        },
        "id": "cGZKPs_qdxrE",
        "outputId": "befafdf2-7d30-446a-c2ab-4830146cee10"
      },
      "execution_count": 15,
      "outputs": [
        {
          "output_type": "stream",
          "name": "stdout",
          "text": [
            "Aprobados: [8, 9, 10, 7, 6, 9, 10, 8, 9]\n",
            "Reprobados: [2, 3, 1, 2, 4]\n"
          ]
        }
      ]
    },
    {
      "cell_type": "markdown",
      "source": [
        "Ejercicio con funciones preconstruidas en python\n",
        "* REDUCE"
      ],
      "metadata": {
        "id": "DFznlYRleLC0"
      }
    },
    {
      "cell_type": "code",
      "source": [
        "from functools import reduce\n",
        "numeros = [7,8,9,10]\n",
        "print(\"suma:\",reduce(lambda n, acum: n+acum, numeros))"
      ],
      "metadata": {
        "colab": {
          "base_uri": "https://localhost:8080/"
        },
        "id": "C0mN9CVvePox",
        "outputId": "2b44707a-9060-420f-e8a7-621fc87e52fe"
      },
      "execution_count": 16,
      "outputs": [
        {
          "output_type": "stream",
          "name": "stdout",
          "text": [
            "suma: 34\n"
          ]
        }
      ]
    },
    {
      "cell_type": "code",
      "source": [
        "numeros = [7,8,9,10,1,5]\n",
        "print(\"Numero mayor:\",reduce(lambda n, mayor: n if n>mayor else mayor, numeros))\n",
        "print(\"Numero menor:\",reduce(lambda n, menor: n if n<menor else menor, numeros))"
      ],
      "metadata": {
        "colab": {
          "base_uri": "https://localhost:8080/"
        },
        "id": "b3GOPY9se6YE",
        "outputId": "4bfb0a79-5a42-46a3-96ec-c68d5909eb34"
      },
      "execution_count": 20,
      "outputs": [
        {
          "output_type": "stream",
          "name": "stdout",
          "text": [
            "Numero mayor: 10\n",
            "Numero menor: 1\n"
          ]
        }
      ]
    },
    {
      "cell_type": "markdown",
      "source": [
        "* **TUPLAS**"
      ],
      "metadata": {
        "id": "wPtZVgR1grLq"
      }
    },
    {
      "cell_type": "code",
      "source": [
        "numeros = (5,8,7,9,5,4,7)\n",
        "print(\"Tupla:\", numeros, \"primer:\", numeros[0], \"ultimo:\", numeros[-1],\n",
        "\"Rango: 2-6\", numeros[2:6])\n",
        "print(\"El numero se repite\",numeros.count(5))"
      ],
      "metadata": {
        "colab": {
          "base_uri": "https://localhost:8080/"
        },
        "id": "RR1R67lMgwDL",
        "outputId": "56cc64e9-ad29-4bb8-9b6a-8a884bc14686"
      },
      "execution_count": 25,
      "outputs": [
        {
          "output_type": "stream",
          "name": "stdout",
          "text": [
            "Tupla: (5, 8, 7, 9, 5, 4, 7) primer: 5 ultimo: 7 Rango: 2-6 (7, 9, 5, 4)\n",
            "El numero se repite 2\n"
          ]
        }
      ]
    },
    {
      "cell_type": "code",
      "source": [
        "semana = (\"domingo\", \"lunes\", \"martes\", \"miercoles\", \"jueves\", \"viernes\", \"sabado\")\n",
        "print(semana[0],\"Cuantas veces se repite domingo:\", semana.count(\"domingo\"),\"; dias de la semana\", len(semana))"
      ],
      "metadata": {
        "colab": {
          "base_uri": "https://localhost:8080/"
        },
        "id": "FUxOuMGnhnZk",
        "outputId": "cacb22e1-5de4-4b03-fa8b-3416ea4e933d"
      },
      "execution_count": 26,
      "outputs": [
        {
          "output_type": "stream",
          "name": "stdout",
          "text": [
            "domingo Cuantas veces se repite domingo: 1 ; dias de la semana 7\n"
          ]
        }
      ]
    },
    {
      "cell_type": "code",
      "source": [
        "import datetime\n",
        "hoy = datetime.date.today()\n",
        "dia = hoy.day\n",
        "mes = hoy.month\n",
        "year = hoy.year\n",
        "dia_semana = hoy.isoweekday()\n",
        "\n",
        "semana = (\"Domingo\", \"Lunes\", \"Martes\", \"Miercoles\", \"Jueves\", \"Viernes\", \"Sabado\")\n",
        "meses = (\"Enero\", \"Febrero\", \"Marzo\", \"Abril\", \"Mayo\", \"Junio\", \"Julio\", \"Agosto\", \"Septiembre\", \"Octubre\", \"Noviembre\", \"Diciembre\")\n",
        "\n",
        "print(semana[dia_semana],dia, \"de\", meses[mes],\"del\", year)"
      ],
      "metadata": {
        "colab": {
          "base_uri": "https://localhost:8080/"
        },
        "id": "bD1vEUJBirB6",
        "outputId": "37ec3557-a55a-4e88-8c2f-8a85291ddb0e"
      },
      "execution_count": 32,
      "outputs": [
        {
          "output_type": "stream",
          "name": "stdout",
          "text": [
            "Lunes 29 de Agosto del 2024\n"
          ]
        }
      ]
    },
    {
      "cell_type": "code",
      "source": [
        "tuplas = (\"Luis\", \"Juan\")\n",
        "#tuplas[0] = \"Maria\" #Las tuplas son inmutables, no pueden cambiar su valor\n",
        "print(tuplas)\n",
        "listas = [\"Luis\", \"Juan\"]\n",
        "listas[0] = \"Maria\" #Las listas si son mutables, si puede cambiar su valor\n",
        "\n",
        "print(listas)\n"
      ],
      "metadata": {
        "colab": {
          "base_uri": "https://localhost:8080/"
        },
        "id": "O_-jn-GmlBx3",
        "outputId": "e6a2086c-ac56-4dd4-eb12-b0a97008e02f"
      },
      "execution_count": 34,
      "outputs": [
        {
          "output_type": "stream",
          "name": "stdout",
          "text": [
            "('Luis', 'Juan')\n",
            "['Maria', 'Juan']\n"
          ]
        }
      ]
    },
    {
      "cell_type": "markdown",
      "source": [
        "* LISTAS"
      ],
      "metadata": {
        "id": "QqMV2u4Il6qP"
      }
    },
    {
      "cell_type": "code",
      "source": [
        "listas = [5,8,7,9, \"Luis\", \"Jonathan\", \"Ramon\"]\n",
        "print(listas, listas[-1])"
      ],
      "metadata": {
        "colab": {
          "base_uri": "https://localhost:8080/"
        },
        "id": "S4qbPmxjl5ns",
        "outputId": "4d15be60-3613-4832-bc05-e0a713619102"
      },
      "execution_count": 36,
      "outputs": [
        {
          "output_type": "stream",
          "name": "stdout",
          "text": [
            "[5, 8, 7, 9, 'Luis', 'Jonathan', 'Ramon'] Ramon\n"
          ]
        }
      ]
    },
    {
      "cell_type": "code",
      "source": [
        "def obtener_nota(nota, eval):\n",
        "   return eval[1]*0.3 + nota"
      ],
      "metadata": {
        "id": "l3J7aI4fmyyM"
      },
      "execution_count": 48,
      "outputs": []
    },
    {
      "cell_type": "code",
      "source": [
        "matriz = [[\"Lab1\", 8], [\"Lab2\", 9], [\"Parcial\", 8]]\n",
        "reduce(obtener_nota, matriz, 0)"
      ],
      "metadata": {
        "colab": {
          "base_uri": "https://localhost:8080/"
        },
        "id": "zhuJnRvTmXOZ",
        "outputId": "b72fe463-bc98-4cff-9494-aaac5fb0efc5"
      },
      "execution_count": 49,
      "outputs": [
        {
          "output_type": "execute_result",
          "data": {
            "text/plain": [
              "7.5"
            ]
          },
          "metadata": {},
          "execution_count": 49
        }
      ]
    }
  ]
}