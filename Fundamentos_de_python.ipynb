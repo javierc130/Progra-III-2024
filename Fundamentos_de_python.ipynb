{
  "nbformat": 4,
  "nbformat_minor": 0,
  "metadata": {
    "colab": {
      "provenance": [],
      "authorship_tag": "ABX9TyP3f4tfr7YnSsK7OctS5q3T",
      "include_colab_link": true
    },
    "kernelspec": {
      "name": "python3",
      "display_name": "Python 3"
    },
    "language_info": {
      "name": "python"
    }
  },
  "cells": [
    {
      "cell_type": "markdown",
      "metadata": {
        "id": "view-in-github",
        "colab_type": "text"
      },
      "source": [
        "<a href=\"https://colab.research.google.com/github/javierc130/Progra-III-2024/blob/main/Fundamentos_de_python.ipynb\" target=\"_parent\"><img src=\"https://colab.research.google.com/assets/colab-badge.svg\" alt=\"Open In Colab\"/></a>"
      ]
    },
    {
      "cell_type": "code",
      "execution_count": null,
      "metadata": {
        "colab": {
          "base_uri": "https://localhost:8080/"
        },
        "id": "VdJjSrCx4Zts",
        "outputId": "06c1a4b9-f860-4525-9828-4ff4523bcd6a"
      },
      "outputs": [
        {
          "output_type": "stream",
          "name": "stdout",
          "text": [
            "Hello, World\n",
            "Hola Javier Navarro , iniciales:  J N\n"
          ]
        }
      ],
      "source": [
        "print(\"Hello, World\")\n",
        "nombre = \"Javier Navarro\"\n",
        "\n",
        "print(\"Hola\", nombre, \", iniciales: \", nombre[0], nombre[7])"
      ]
    },
    {
      "cell_type": "markdown",
      "source": [
        "*EJERCICIO* Crear un programa en python que sume 2 numeros"
      ],
      "metadata": {
        "id": "WeLtD7PI9dry"
      }
    },
    {
      "cell_type": "code",
      "source": [
        "num1 = 5\n",
        "num2 = 9.5\n",
        "resp = num1 + num2\n",
        "print(\"La suma es:\", resp)"
      ],
      "metadata": {
        "colab": {
          "base_uri": "https://localhost:8080/"
        },
        "id": "BOB040Vj9aF1",
        "outputId": "49539da1-ace2-4a53-c803-f3351beaf8aa"
      },
      "execution_count": null,
      "outputs": [
        {
          "output_type": "stream",
          "name": "stdout",
          "text": [
            "La suma es: 14.5\n"
          ]
        }
      ]
    },
    {
      "cell_type": "markdown",
      "source": [
        "EJERCICIO Crear un programa en python que sume 2 numeros producidos por el usuario"
      ],
      "metadata": {
        "id": "ZY4dO8gH_NxP"
      }
    },
    {
      "cell_type": "code",
      "source": [
        "print(\"num1\")\n",
        "num1 = float(input())\n",
        "\n",
        "print(\"num2\")\n",
        "num2 = float(input())\n",
        "\n",
        "resp = num1 + num2\n",
        "print(\"La suma es:\", resp)"
      ],
      "metadata": {
        "colab": {
          "base_uri": "https://localhost:8080/"
        },
        "collapsed": true,
        "id": "5bvQ5w-J_UeV",
        "outputId": "648f47a3-80b9-4748-9956-6174998cb0ef"
      },
      "execution_count": null,
      "outputs": [
        {
          "output_type": "stream",
          "name": "stdout",
          "text": [
            "num1\n",
            "2\n",
            "num2\n",
            "6\n",
            "La suma es: 8.0\n"
          ]
        }
      ]
    },
    {
      "cell_type": "code",
      "source": [
        "#Tipos de datos\n",
        "num1 = 5\n",
        "num2 = 5.9\n",
        "nombre = \"Javier Navarro\"\n",
        "print(nombre[0:6], nombre[:6], nombre[-1:], nombre[6:len(nombre)])\n",
        "\n",
        "estado = True\n",
        "print(estado)\n",
        "\n",
        "print(type(nombre), type(num1), type(num2), type(estado))\n"
      ],
      "metadata": {
        "id": "Jqv7IfEkCFdv",
        "colab": {
          "base_uri": "https://localhost:8080/"
        },
        "outputId": "1888b194-48a5-42ae-8935-0e7502930f3c"
      },
      "execution_count": null,
      "outputs": [
        {
          "output_type": "stream",
          "name": "stdout",
          "text": [
            "Javier Javier o  Navarro\n",
            "True\n",
            "<class 'str'> <class 'int'> <class 'float'> <class 'bool'>\n"
          ]
        }
      ]
    },
    {
      "cell_type": "markdown",
      "source": [
        "crear un programa en python que lea un numero y determine si es par o impar"
      ],
      "metadata": {
        "id": "1CR7XM-6Eolj"
      }
    },
    {
      "cell_type": "code",
      "source": [
        "num = int(input(\"Ingrese un numero:\"))\n",
        "if num % 2 == 0:\n",
        " print(\"El numero es par\")\n",
        "else:\n",
        " print(\"el numero es impar\")"
      ],
      "metadata": {
        "colab": {
          "base_uri": "https://localhost:8080/"
        },
        "id": "8BULpuNnEwx0",
        "outputId": "ccfc0000-0319-422d-845a-c18e93efe4a8"
      },
      "execution_count": null,
      "outputs": [
        {
          "output_type": "stream",
          "name": "stdout",
          "text": [
            "Ingrese un numero:8\n",
            "El numero es par\n"
          ]
        }
      ]
    },
    {
      "cell_type": "markdown",
      "source": [
        "Ejercicio: uso de las funciones de usuario con la suma de 2 numeros"
      ],
      "metadata": {
        "id": "ju8uHURiabVw"
      }
    },
    {
      "cell_type": "code",
      "source": [
        " def suma(num1, num2):\n",
        "  return num1 + num2"
      ],
      "metadata": {
        "id": "pA-UaN3RbJz0"
      },
      "execution_count": 5,
      "outputs": []
    },
    {
      "cell_type": "code",
      "source": [
        "  num1 = float(input(\"num 1:\"))\n",
        "  num2 = float(input(\"num 2:\"))\n",
        "  resp = suma(num1, num2)\n",
        "  print(\"La suma es:\", resp)"
      ],
      "metadata": {
        "colab": {
          "base_uri": "https://localhost:8080/"
        },
        "id": "NpzXyIofYHSO",
        "outputId": "f965fa66-1330-469d-a7d9-24790b6fd597"
      },
      "execution_count": 6,
      "outputs": [
        {
          "output_type": "stream",
          "name": "stdout",
          "text": [
            "num 1:2\n",
            "num 2:2\n",
            "La suma es: 4.0\n"
          ]
        }
      ]
    },
    {
      "cell_type": "markdown",
      "source": [
        "Ejercio: convertir grados celsius a farenheit, usando funciones de ususario"
      ],
      "metadata": {
        "id": "NtIku3QGbQaS"
      }
    },
    {
      "cell_type": "code",
      "source": [
        "def convertir_cf(c):\n",
        "  return c * 1.8 + 32"
      ],
      "metadata": {
        "id": "PxdGZLsgbY__"
      },
      "execution_count": 15,
      "outputs": []
    },
    {
      "cell_type": "code",
      "source": [
        "c = float(input(\"Celsius:\"))\n",
        "print(\"Farenheit:\", convertir_cf(c))"
      ],
      "metadata": {
        "colab": {
          "base_uri": "https://localhost:8080/"
        },
        "id": "nDRMCG6ibsIE",
        "outputId": "8ac1da38-4cb4-4c6c-da6e-43d5eac36df7"
      },
      "execution_count": 19,
      "outputs": [
        {
          "output_type": "stream",
          "name": "stdout",
          "text": [
            "Celsius:33\n",
            "Farenheit: 91.4\n"
          ]
        }
      ]
    },
    {
      "cell_type": "markdown",
      "source": [
        "Ejercicio: determina si un numero es par o impar"
      ],
      "metadata": {
        "id": "KutqW--qfLAY"
      }
    },
    {
      "cell_type": "code",
      "source": [
        "def par_impar(num):\n",
        "    if(num % 2 == 0):\n",
        "      return \"par\"\n",
        "    return \"impar\""
      ],
      "metadata": {
        "id": "qEA50AfbfQ2D"
      },
      "execution_count": 25,
      "outputs": []
    },
    {
      "cell_type": "code",
      "source": [
        "num = int(input(\"Num:\"))\n",
        "print(\"el numero\",num, \"es\", par_impar(num))"
      ],
      "metadata": {
        "colab": {
          "base_uri": "https://localhost:8080/"
        },
        "id": "EyfsCCKSf2n5",
        "outputId": "87350231-56c0-41cf-e67a-2ac5f3b19da1"
      },
      "execution_count": 29,
      "outputs": [
        {
          "output_type": "stream",
          "name": "stdout",
          "text": [
            "Num:2\n",
            "el numero 2 es par\n"
          ]
        }
      ]
    },
    {
      "cell_type": "markdown",
      "source": [
        "**Tarea para el miercoles:**\n",
        "1. Convertir grados farenheit a celcius\n",
        "2. Convertir grados (Farenheit y celcius) a Kelvin\n"
      ],
      "metadata": {
        "id": "-IkNujjZhByT"
      }
    },
    {
      "cell_type": "markdown",
      "source": [
        "Ejercicio: calcular el sueldo de un trabajador"
      ],
      "metadata": {
        "id": "AuFz6t9uhqsq"
      }
    },
    {
      "cell_type": "code",
      "source": [
        "def sueldo(numHrs, valorHrs):\n",
        "  sueldo = numHrs * valorHrs *30 #\n",
        "  if(numHrs > 8):\n",
        "    sueldo = sueldo + (numHrs - 8) * valorHrs * 30\n",
        "  return sueldo"
      ],
      "metadata": {
        "id": "6BFcg_l4hvvd"
      },
      "execution_count": 37,
      "outputs": []
    },
    {
      "cell_type": "code",
      "source": [
        "numHrs = int(input(\"Horas:\"))\n",
        "valorHrs = float(input(\"Valor:\"))\n",
        "print(\"Sueldo Mensual:\", sueldo(numHrs, valorHrs))"
      ],
      "metadata": {
        "colab": {
          "base_uri": "https://localhost:8080/"
        },
        "id": "frSrFLPzh-MJ",
        "outputId": "f6061e3d-a33b-489f-c650-a344388eaeb4"
      },
      "execution_count": 39,
      "outputs": [
        {
          "output_type": "stream",
          "name": "stdout",
          "text": [
            "Horas:2\n",
            "Valor:3\n",
            "Sueldo Mensual: 180.0\n"
          ]
        }
      ]
    }
  ]
}