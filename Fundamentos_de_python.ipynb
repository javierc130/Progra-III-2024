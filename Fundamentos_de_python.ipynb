{
  "nbformat": 4,
  "nbformat_minor": 0,
  "metadata": {
    "colab": {
      "provenance": [],
      "authorship_tag": "ABX9TyOun7n8mTM0MEsMaU9T/GV3",
      "include_colab_link": true
    },
    "kernelspec": {
      "name": "python3",
      "display_name": "Python 3"
    },
    "language_info": {
      "name": "python"
    }
  },
  "cells": [
    {
      "cell_type": "markdown",
      "metadata": {
        "id": "view-in-github",
        "colab_type": "text"
      },
      "source": [
        "<a href=\"https://colab.research.google.com/github/javierc130/Progra-III-2024/blob/main/Fundamentos_de_python.ipynb\" target=\"_parent\"><img src=\"https://colab.research.google.com/assets/colab-badge.svg\" alt=\"Open In Colab\"/></a>"
      ]
    },
    {
      "cell_type": "code",
      "execution_count": 8,
      "metadata": {
        "colab": {
          "base_uri": "https://localhost:8080/"
        },
        "collapsed": true,
        "id": "VdJjSrCx4Zts",
        "outputId": "afffac90-543d-4f05-c19b-75ffdf626ace"
      },
      "outputs": [
        {
          "output_type": "stream",
          "name": "stdout",
          "text": [
            "Hello, World\n",
            "Hola Javier Navarro , inicial:  J N\n"
          ]
        }
      ],
      "source": [
        "print(\"Hello, World\")\n",
        "nombre = \"Javier Navarro\"\n",
        "\n",
        "print(\"Hola\", nombre, \", inicial: \", nombre[0], nombre[7])"
      ]
    },
    {
      "cell_type": "markdown",
      "source": [
        "*EJERCICIO* Crear un programa en python que sume 2 numeros"
      ],
      "metadata": {
        "id": "WeLtD7PI9dry"
      }
    },
    {
      "cell_type": "code",
      "source": [
        "num1 = 5\n",
        "num2 = 9.5\n",
        "resp = num1 + num2\n",
        "print(\"La suma es:\", resp)"
      ],
      "metadata": {
        "colab": {
          "base_uri": "https://localhost:8080/"
        },
        "collapsed": true,
        "id": "BOB040Vj9aF1",
        "outputId": "49539da1-ace2-4a53-c803-f3351beaf8aa"
      },
      "execution_count": 11,
      "outputs": [
        {
          "output_type": "stream",
          "name": "stdout",
          "text": [
            "La suma es: 14.5\n"
          ]
        }
      ]
    },
    {
      "cell_type": "markdown",
      "source": [
        "EJERCICIO Crear un programa en python que sume 2 numeros producidos por el usuario"
      ],
      "metadata": {
        "id": "ZY4dO8gH_NxP"
      }
    },
    {
      "cell_type": "code",
      "source": [
        "print(\"num1\")\n",
        "num1 = float(input())\n",
        "\n",
        "print(\"num2\")\n",
        "num2 = float(input())\n",
        "\n",
        "resp = num1 + num2\n",
        "print(\"La suma es:\", resp)"
      ],
      "metadata": {
        "colab": {
          "base_uri": "https://localhost:8080/"
        },
        "collapsed": true,
        "id": "5bvQ5w-J_UeV",
        "outputId": "59f75ded-334e-4304-c612-b4ff1d576eb3"
      },
      "execution_count": 13,
      "outputs": [
        {
          "output_type": "stream",
          "name": "stdout",
          "text": [
            "num1\n",
            "3\n",
            "num2\n",
            "5\n",
            "La suma es: 8.0\n"
          ]
        }
      ]
    },
    {
      "cell_type": "code",
      "source": [
        "#Tipos de datos\n",
        "num1 = 5\n",
        "num2 = 5.9\n",
        "nombre = \"Javier Navarro\"\n",
        "print(nombre[0:6], nombre[:6], nombre[-1], nombre[5:len(nombre)])\n",
        "\n",
        "estado = True\n",
        "print(estado)\n",
        "\n",
        "print(type(nombre), type(num1), type(num2), type(estado))\n"
      ],
      "metadata": {
        "colab": {
          "base_uri": "https://localhost:8080/"
        },
        "id": "Jqv7IfEkCFdv",
        "outputId": "65ab0b25-f97e-408c-d03b-60d75a55b0f1"
      },
      "execution_count": 26,
      "outputs": [
        {
          "output_type": "stream",
          "name": "stdout",
          "text": [
            "Javier Javier o r Navarro\n",
            "True\n",
            "<class 'str'> <class 'int'> <class 'float'> <class 'bool'>\n"
          ]
        }
      ]
    },
    {
      "cell_type": "markdown",
      "source": [
        "crear un programa en python que lea un numero y determine si es par o impar"
      ],
      "metadata": {
        "id": "1CR7XM-6Eolj"
      }
    },
    {
      "cell_type": "code",
      "source": [
        "num = int(input(\"Ingrese un numero:\"))\n",
        "if num % 2 == 0:\n",
        "    print(\"El numero es par\")\n",
        "else:\n",
        "    print(\"el numero es impar\")"
      ],
      "metadata": {
        "colab": {
          "base_uri": "https://localhost:8080/"
        },
        "id": "8BULpuNnEwx0",
        "outputId": "fe355c3d-e766-4b70-ec31-469c263dd554"
      },
      "execution_count": 30,
      "outputs": [
        {
          "output_type": "stream",
          "name": "stdout",
          "text": [
            "Ingrese un numero:3\n",
            "el numero es impar\n"
          ]
        }
      ]
    }
  ]
}