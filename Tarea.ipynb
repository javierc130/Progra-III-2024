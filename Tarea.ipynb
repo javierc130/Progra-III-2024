{
  "nbformat": 4,
  "nbformat_minor": 0,
  "metadata": {
    "colab": {
      "provenance": [],
      "authorship_tag": "ABX9TyPIgXyqciQz81FYy7gKx8iA",
      "include_colab_link": true
    },
    "kernelspec": {
      "name": "python3",
      "display_name": "Python 3"
    },
    "language_info": {
      "name": "python"
    }
  },
  "cells": [
    {
      "cell_type": "markdown",
      "metadata": {
        "id": "view-in-github",
        "colab_type": "text"
      },
      "source": [
        "<a href=\"https://colab.research.google.com/github/javierc130/Progra-III-2024/blob/Tarea/Tarea.ipynb\" target=\"_parent\"><img src=\"https://colab.research.google.com/assets/colab-badge.svg\" alt=\"Open In Colab\"/></a>"
      ]
    },
    {
      "cell_type": "markdown",
      "source": [
        "\n",
        "Conversores: Divisas, Longitud, Masa, Almacenamiento, Tiempo, Volumen, Areas"
      ],
      "metadata": {
        "id": "HpNxFudHVBzi"
      }
    },
    {
      "cell_type": "markdown",
      "source": [
        "**DIVISAS**"
      ],
      "metadata": {
        "id": "XoBhdx6AXX3l"
      }
    },
    {
      "cell_type": "code",
      "source": [
        "tasa_usd_eur = 0.90\n",
        "tasa_usd_mxn = 18.99\n",
        "tasa_usd_cop = 4006.50\n",
        "tasa_usd_gtq = 7.73"
      ],
      "metadata": {
        "id": "Osrdrvjr1UP4"
      },
      "execution_count": 62,
      "outputs": []
    },
    {
      "cell_type": "code",
      "source": [
        "def convertir_dolares(cantidad_usd):\n",
        "    euros = cantidad_usd * tasa_usd_eur\n",
        "    pesos_mexicanos = cantidad_usd * tasa_usd_mxn\n",
        "    pesos_colombianos = cantidad_usd * tasa_usd_cop\n",
        "    quetzales = cantidad_usd * tasa_usd_gtq\n",
        "    return euros, pesos_mexicanos, pesos_colombianos, quetzales\n"
      ],
      "metadata": {
        "id": "ZhhoDJcv1VNG"
      },
      "execution_count": 69,
      "outputs": []
    },
    {
      "cell_type": "markdown",
      "source": [
        "**LONGITUD**"
      ],
      "metadata": {
        "id": "OegKqDV3XaJq"
      }
    },
    {
      "cell_type": "code",
      "source": [
        "kilometro = 0.001\n",
        "milla = 0.00062137\n",
        "yarda = 1.0936133\n",
        "pulgada = 39.3700787"
      ],
      "metadata": {
        "id": "0Tx0HXaa7GKo"
      },
      "execution_count": 110,
      "outputs": []
    },
    {
      "cell_type": "code",
      "source": [
        "def convertir_longitud(cantidad_metros):\n",
        "    kilometros = cantidad_metros * kilometro\n",
        "    millas = cantidad_metros * milla\n",
        "    yardas = cantidad_metros * yarda\n",
        "    pulgadas = cantidad_metros * pulgada\n",
        "    return kilometros, millas, yardas, pulgadas"
      ],
      "metadata": {
        "id": "jM9-8I5G7NNm"
      },
      "execution_count": 113,
      "outputs": []
    },
    {
      "cell_type": "markdown",
      "source": [
        "**MASA**"
      ],
      "metadata": {
        "id": "XtMmf7M0XdIz"
      }
    },
    {
      "cell_type": "code",
      "source": [
        "libra = 2.2\n",
        "onza = 35.27\n",
        "gramo = 1000\n",
        "tonelada = 0.001"
      ],
      "metadata": {
        "id": "lhkaPvUnXgZU"
      },
      "execution_count": 120,
      "outputs": []
    },
    {
      "cell_type": "code",
      "source": [
        "def convertir_masa(cantidad_kilo):\n",
        "    libras = cantidad_kilo * libra\n",
        "    onzas = cantidad_kilo * onza\n",
        "    gramos = cantidad_kilo * gramo\n",
        "    toneladas = cantidad_kilo * tonelada\n",
        "    return libras, onzas, gramos, toneladas"
      ],
      "metadata": {
        "id": "-5Lns5m3X7k0"
      },
      "execution_count": 123,
      "outputs": []
    },
    {
      "cell_type": "markdown",
      "source": [
        "**ALMACENAMIENTO**"
      ],
      "metadata": {
        "id": "IflMPLV0Zbor"
      }
    },
    {
      "cell_type": "code",
      "source": [
        "gigabyte = 0.001\n",
        "kilobyte = 1000\n",
        "terabyte = 0.000001\n",
        "petabyte = 0.000000001"
      ],
      "metadata": {
        "id": "A7XvaoqWZd1Z"
      },
      "execution_count": 127,
      "outputs": []
    },
    {
      "cell_type": "code",
      "source": [
        "def convertir_almacenamiento(cantidad_mb):\n",
        "    gigabytes = cantidad_mb * gigabyte\n",
        "    kilobytes = cantidad_mb * kilobyte\n",
        "    terabytes = cantidad_mb * terabyte\n",
        "    petabytes = cantidad_mb * petabyte\n",
        "    return gigabytes, kilobytes, terabytes, petabytes"
      ],
      "metadata": {
        "id": "l6OU1i5GaU0I"
      },
      "execution_count": 137,
      "outputs": []
    },
    {
      "cell_type": "markdown",
      "source": [
        "**TIEMPO**"
      ],
      "metadata": {
        "id": "ls-lbvrBjOCC"
      }
    },
    {
      "cell_type": "code",
      "source": [
        "minuto = 60\n",
        "segundo = 3600\n",
        "dia = 0.4\n",
        "semana = 0.0059"
      ],
      "metadata": {
        "id": "pIoTITn3jQKf"
      },
      "execution_count": 159,
      "outputs": []
    },
    {
      "cell_type": "code",
      "source": [
        "def convertir_tiempo(cantidad_horas):\n",
        "    minutos = cantidad_horas * minuto\n",
        "    segundos = cantidad_horas * segundo\n",
        "    dias = cantidad_horas * dia\n",
        "    semanas = cantidad_horas * semana\n",
        "    return minutos, segundos, dias, semanas"
      ],
      "metadata": {
        "id": "WkrynTu-jrGH"
      },
      "execution_count": 160,
      "outputs": []
    },
    {
      "cell_type": "markdown",
      "source": [
        "**VOLUMEN**"
      ],
      "metadata": {
        "id": "nhXrhlYckM2w"
      }
    },
    {
      "cell_type": "code",
      "source": [
        "mililitro = 1000\n",
        "galon = 0.264"
      ],
      "metadata": {
        "id": "_ZsToYVhkO3I"
      },
      "execution_count": 162,
      "outputs": []
    },
    {
      "cell_type": "code",
      "source": [
        "def convertir_volumen(cantidad_litros):\n",
        "    mililitros = cantidad_litros * mililitro\n",
        "    galones = cantidad_litros * galon\n",
        "    return mililitros, galones"
      ],
      "metadata": {
        "id": "Mo6mw2mbkmRR"
      },
      "execution_count": 163,
      "outputs": []
    },
    {
      "cell_type": "markdown",
      "source": [
        "**AREA**"
      ],
      "metadata": {
        "id": "j3d0iiJ0k2_m"
      }
    },
    {
      "cell_type": "code",
      "source": [
        "metro_cuadrado = 10000\n",
        "acre = 2.4\n",
        "pie_cuadrado = 107.63\n",
        "area = 100"
      ],
      "metadata": {
        "id": "FRtBfIG9k4fv"
      },
      "execution_count": 172,
      "outputs": []
    },
    {
      "cell_type": "code",
      "source": [
        "def convertir_areas(cantidad_hectareas):\n",
        "    metros_cuadrados = cantidad_hectareas * metro_cuadrado\n",
        "    acres = cantidad_hectareas * acre\n",
        "    pies_cuadrados = cantidad_hectareas * pie_cuadrado\n",
        "    areas = cantidad_hectareas * area\n",
        "    return metros_cuadrados, acres, pies_cuadrados, areas"
      ],
      "metadata": {
        "id": "v-Z0dWe8mT-9"
      },
      "execution_count": 173,
      "outputs": []
    },
    {
      "cell_type": "code",
      "source": [
        "def menu():\n",
        "    while True:\n",
        "        print(\"\\nBienvenido al conversor de unidades\")\n",
        "        print(\"Seleccione el tipo de conversión:\")\n",
        "        print(\"1. Conversión de Moneda (USD a EUR, MXN, COP, GTQ)\")\n",
        "        print(\"2. Conversión de Longitud\")\n",
        "        print(\"3. Conversión de Masa\")\n",
        "        print(\"4. Conversión de Almacenamiento\")\n",
        "        print(\"5. Conversión de Tiempo\")\n",
        "        print(\"6. Conversión de Volumen\")\n",
        "        print(\"7. Conversión de Áreas\")\n",
        "        print(\"0. Salir\")\n",
        "\n",
        "        opcion = int(input(\"Ingrese el número de su elección: \"))\n",
        "\n",
        "        if opcion == 1:\n",
        "            print(\"Conversión de Moneda (USD a EUR, MXN, COP, GTQ)\")\n",
        "            cantidad_usd = float(input(\"Ingrese la cantidad en dólares (USD): \"))\n",
        "            euros, pesos_mexicanos, pesos_colombianos, quetzales = convertir_dolares(cantidad_usd)\n",
        "            print(f\"\\n{cantidad_usd} USD (Dólares Estadounidenses) es equivalente a:\")\n",
        "            print(f\"{euros:.2f} EUR (Euros)\")\n",
        "            print(f\"{pesos_mexicanos:.2f} MXN (Pesos Mexicanos)\")\n",
        "            print(f\"{pesos_colombianos:.2f} COP (Pesos Colombianos)\")\n",
        "            print(f\"{quetzales:.2f} GTQ (Quetzales Guatemaltecos)\")\n",
        "\n",
        "        elif opcion == 2:\n",
        "            print(\"Conversión de Longitud\")\n",
        "            cantidad_metros = float(input(\"Ingrese la cantidad en metros: \"))\n",
        "            kilometros, millas, yardas, pulgadas = convertir_longitud(cantidad_metros)\n",
        "            print(f\"\\n{cantidad_metros} metros son equivalentes a:\")\n",
        "            print(f\"{kilometros:.2f} kilómetros\")\n",
        "            print(f\"{millas:.2f} millas\")\n",
        "            print(f\"{yardas:.2f} yardas\")\n",
        "            print(f\"{pulgadas:.2f} pulgadas\")\n",
        "\n",
        "        elif opcion == 3:\n",
        "            print(\"Conversión de Masa\")\n",
        "            cantidad_kilo = float(input(\"Ingrese la cantidad en kilogramos: \"))\n",
        "            libras, onzas, gramos, toneladas = convertir_masa(cantidad_kilo)\n",
        "            print(f\"\\n{cantidad_kilo} kilogramos son equivalentes a:\")\n",
        "            print(f\"{libras:.2f} libras\")\n",
        "            print(f\"{onzas:.2f} onzas\")\n",
        "            print(f\"{gramos:.2f} gramos\")\n",
        "            print(f\"{toneladas:.2f} toneladas\")\n",
        "\n",
        "        elif opcion == 4:\n",
        "            print(\"Conversión de Almacenamiento\")\n",
        "            cantidad_mb = float(input(\"Ingrese la cantidad en megabytes: \"))\n",
        "            gigabytes, kilobytes, terabytes, petabytes = convertir_almacenamiento(cantidad_mb)\n",
        "            print(f\"\\n{cantidad_mb} megabytes son equivalentes a:\")\n",
        "            print(f\"{gigabytes:.2f} gigabytes\")\n",
        "            print(f\"{kilobytes:.2f} kilobytes\")\n",
        "            print(f\"{terabytes:.2f} terabytes\")\n",
        "            print(f\"{petabytes:.2f} petabytes\")\n",
        "\n",
        "        elif opcion == 5:\n",
        "            print(\"Conversión de Tiempo\")\n",
        "            cantidad_horas = float(input(\"Ingrese la cantidad en horas: \"))\n",
        "            minutos, segundos, dias, semanas = convertir_tiempo(cantidad_horas)\n",
        "            print(f\"\\n{cantidad_horas} horas son equivalentes a:\")\n",
        "            print(f\"{minutos:.2f} minutos\")\n",
        "            print(f\"{segundos:.2f} segundos\")\n",
        "            print(f\"{dias:.2f} días\")\n",
        "            print(f\"{semanas:.2f} semanas\")\n",
        "\n",
        "        elif opcion == 6:\n",
        "            print(\"Conversión de Volumen\")\n",
        "            cantidad_litros = float(input(\"Ingrese la cantidad en litros: \"))\n",
        "            mililitros, galones, = convertir_volumen(cantidad_litros)\n",
        "            print(f\"\\n{cantidad_litros} litros son equivalentes a:\")\n",
        "            print(f\"{mililitros:.2f} mililitros\")\n",
        "            print(f\"{galones:.2f} galones\")\n",
        "\n",
        "        elif opcion == 7:\n",
        "            print(\"Conversión de Áreas\")\n",
        "            cantidad_hectareas = float(input(\"Ingrese la cantidad en Hectareas: \"))\n",
        "            metros_cuadrados, acres, pies_cuadrados, areas = convertir_areas(cantidad_hectareas)\n",
        "            print(f\"\\n{cantidad_hectareas} hectareas son equivalentes a:\")\n",
        "            print(f\"{metros_cuadrados:.2f} metros cuadrados\")\n",
        "            print(f\"{acres:.2f} acres\")\n",
        "            print(f\"{pies_cuadrados:.2f} pies cuadrados\")\n",
        "            print(f\"{areas:.2f} areas\")\n",
        "\n",
        "        elif opcion == 0:\n",
        "            print(\"Gracias por usar el conversor de unidades\")\n",
        "            break\n",
        "\n",
        "        else:\n",
        "            print(\"Opción no válida. Por favor, seleccione una opción del 0 al 7.\")\n",
        "\n",
        "        continuar = input(\"¿Desea realizar otra conversión? (s/n): \").lower()\n",
        "        if continuar != \"s\":\n",
        "            print(\"Gracias por usar el conversor de unidades\")\n",
        "            break\n",
        "\n",
        "menu()"
      ],
      "metadata": {
        "colab": {
          "base_uri": "https://localhost:8080/"
        },
        "id": "yfgiUZfj76Gr",
        "outputId": "17d43576-8c0f-47f8-9015-11c527d76325"
      },
      "execution_count": 174,
      "outputs": [
        {
          "output_type": "stream",
          "name": "stdout",
          "text": [
            "\n",
            "Bienvenido al conversor de unidades\n",
            "Seleccione el tipo de conversión:\n",
            "1. Conversión de Moneda (USD a EUR, MXN, COP, GTQ)\n",
            "2. Conversión de Longitud\n",
            "3. Conversión de Masa\n",
            "4. Conversión de Almacenamiento\n",
            "5. Conversión de Tiempo\n",
            "6. Conversión de Volumen\n",
            "7. Conversión de Áreas\n",
            "0. Salir\n",
            "Ingrese el número de su elección: 7\n",
            "Conversión de Áreas\n",
            "Ingrese la cantidad en Hectareas: 1\n",
            "\n",
            "1.0 hectareas son equivalentes a:\n",
            "10000.00 metros cuadrados\n",
            "2.40 acres\n",
            "107.63 pies cuadrados\n",
            "100.00) areas\n",
            "¿Desea realizar otra conversión? (s/n): s\n",
            "\n",
            "Bienvenido al conversor de unidades\n",
            "Seleccione el tipo de conversión:\n",
            "1. Conversión de Moneda (USD a EUR, MXN, COP, GTQ)\n",
            "2. Conversión de Longitud\n",
            "3. Conversión de Masa\n",
            "4. Conversión de Almacenamiento\n",
            "5. Conversión de Tiempo\n",
            "6. Conversión de Volumen\n",
            "7. Conversión de Áreas\n",
            "0. Salir\n",
            "Ingrese el número de su elección: 6\n",
            "Conversión de Volumen\n",
            "Ingrese la cantidad en litros: 100\n",
            "\n",
            "100.0 litros son equivalentes a:\n",
            "100000.00 mililitros\n",
            "26.40 galones\n",
            "¿Desea realizar otra conversión? (s/n): n\n",
            "Gracias por usar el conversor de unidades\n"
          ]
        }
      ]
    },
    {
      "cell_type": "markdown",
      "source": [],
      "metadata": {
        "id": "JMDuLh1cnkpC"
      }
    },
    {
      "cell_type": "markdown",
      "source": [
        "Calcular el valor a pagar según el número de metros consumidos de agua potable"
      ],
      "metadata": {
        "id": "CRc0pMzrnvxv"
      }
    },
    {
      "cell_type": "code",
      "source": [
        "def calcular_costo_total(metros_cubicos):\n",
        "\n",
        "    cuota_fija = 6.00\n",
        "    tarifa_exceso_18 = 0.45\n",
        "    tarifa_exceso_28 = 0.65\n",
        "\n",
        "    if metros_cubicos <= 18:\n",
        "        costo_total = cuota_fija\n",
        "\n",
        "    elif metros_cubicos <= 28:\n",
        "        exceso_18 = metros_cubicos - 18\n",
        "        costo_total = cuota_fija + (exceso_18 * tarifa_exceso_18)\n",
        "\n",
        "    else:\n",
        "        exceso_28 = metros_cubicos - 28\n",
        "        exceso_19_a_28 = 28 - 18\n",
        "        costo_total = cuota_fija + (exceso_19_a_28 * tarifa_exceso_18) + (exceso_28 * tarifa_exceso_28)\n",
        "\n",
        "    return costo_total\n",
        "\n",
        "\n",
        "def obtener_metros_cubicos():\n",
        "    while True:\n",
        "        try:\n",
        "            metros_cubicos = float(input(\"Ingrese la cantidad de metros cúbicos de agua consumidos: \"))\n",
        "            if metros_cubicos < 0:\n",
        "                print(\"Por favor, ingrese un número positivo.\")\n",
        "            else:\n",
        "                return metros_cubicos\n",
        "        except ValueError:\n",
        "            print(\"Entrada inválida. Por favor, ingrese un número válido.\")\n",
        "\n",
        "\n",
        "continuar = \"s\"\n",
        "while continuar == \"s\":\n",
        "\n",
        "    metros_cubicos_consumidos = obtener_metros_cubicos()\n",
        "\n",
        "    costo_total = calcular_costo_total(metros_cubicos_consumidos)\n",
        "    print(f\"El costo total a pagar por {metros_cubicos_consumidos} m³ de agua es ${costo_total:.2f}\")\n",
        "\n",
        "    continuar = input(\"Continuar s, sino cualquier tecla\")"
      ],
      "metadata": {
        "colab": {
          "base_uri": "https://localhost:8080/"
        },
        "id": "UX8G99Ionwkj",
        "outputId": "3e69d7c4-6fce-4821-d421-c4bd428c73da"
      },
      "execution_count": 175,
      "outputs": [
        {
          "name": "stdout",
          "output_type": "stream",
          "text": [
            "Ingrese la cantidad de metros cúbicos de agua consumidos: 10\n",
            "El costo total a pagar por 10.0 m³ de agua es $6.00\n",
            "Continuar s, sino cualquier teclan\n"
          ]
        }
      ]
    },
    {
      "cell_type": "markdown",
      "source": [
        "Desarrolle la tabla de meses acumulados a n meses"
      ],
      "metadata": {
        "id": "ml-fz9ENoAZq"
      }
    },
    {
      "cell_type": "code",
      "source": [
        "def calcular_interes_acumulado(mes):\n",
        "    acumulacion = 1\n",
        "\n",
        "    for i in range(2, mes + 1):\n",
        "        acumulacion += i\n",
        "\n",
        "    return acumulacion\n",
        "\n",
        "mes = int(input(\"Ingresa el número del mes: \"))\n",
        "interes_acumulado = calcular_interes_acumulado(mes)\n",
        "print(f\"El interés acumulado en el mes {mes} es: {interes_acumulado}\")"
      ],
      "metadata": {
        "colab": {
          "base_uri": "https://localhost:8080/"
        },
        "id": "JyTAA-3PoA4K",
        "outputId": "4c57b3f9-9690-4cb6-cb28-4297a5df1b53"
      },
      "execution_count": 176,
      "outputs": [
        {
          "output_type": "stream",
          "name": "stdout",
          "text": [
            "Ingresa el número del mes: 3\n",
            "El interés acumulado en el mes 3 es: 6\n"
          ]
        }
      ]
    },
    {
      "cell_type": "markdown",
      "source": [],
      "metadata": {
        "id": "syDKIDFHoN3D"
      }
    },
    {
      "cell_type": "code",
      "source": [
        "def conversor():\n",
        "  while True:\n",
        "    print(\"Opciones de conversión:\")\n",
        "    print(\"1. Cajas a unidades\")\n",
        "    print(\"2. Unidades a cajas\")\n",
        "    print(\"3. Sacos a libras\")\n",
        "    print(\"4. Libras a sacos\")\n",
        "    print(\"5. Fardos a unidades\")\n",
        "    print(\"6. Unidades a fardos\")\n",
        "    print(\"7. Salir\")\n",
        "\n",
        "    opcion = int(input(\"Elige una opción (1-7): \"))\n",
        "\n",
        "    if opcion == 1:\n",
        "      cajas = float(input(\"Introduce el número de cajas: \"))\n",
        "      if cajas < 0:\n",
        "        print(\"Valor inválido. No se permiten valores negativos.\")\n",
        "        continue\n",
        "      unidades = cajas * 25\n",
        "      print(cajas, \"cajas equivalen a\", unidades, \"unidades.\")\n",
        "    elif opcion == 2:\n",
        "      unidades = float(input(\"Introduce el número de unidades: \"))\n",
        "      if unidades < 0:\n",
        "        print(\"Valor inválido. No se permiten valores negativos.\")\n",
        "        continue\n",
        "      cajas = unidades // 25\n",
        "      unidades_restantes = unidades % 25\n",
        "      print(unidades, \"unidades equivalen a\", cajas, \"cajas y\", unidades_restantes, \"unidades.\")\n",
        "    elif opcion == 3:\n",
        "      sacos = float(input(\"Introduce el número de sacos: \"))\n",
        "      if sacos < 0:\n",
        "        print(\"Valor inválido. No se permiten valores negativos.\")\n",
        "        continue\n",
        "      libras = sacos * 50\n",
        "      print(sacos, \"sacos equivalen a\", libras, \"libras.\")\n",
        "    elif opcion == 4:\n",
        "      libras = float(input(\"Introduce el número de libras: \"))\n",
        "      if libras < 0:\n",
        "        print(\"Valor inválido. No se permiten valores negativos.\")\n",
        "        continue\n",
        "      sacos = libras // 50\n",
        "      libras_restantes = libras % 50\n",
        "      print(libras, \"libras equivalen a\", sacos, \"sacos y\", libras_restantes, \"libras.\")\n",
        "    elif opcion == 5:\n",
        "      fardos = float(input(\"Introduce el número de fardos: \"))\n",
        "      if fardos < 0:\n",
        "        print(\"Valor inválido. No se permiten valores negativos.\")\n",
        "        continue\n",
        "      unidades = fardos * 5\n",
        "      print(fardos, \"fardos equivalen a\", unidades, \"unidades.\")\n",
        "    elif opcion == 6:\n",
        "      unidades = float(input(\"Introduce el número de unidades: \"))\n",
        "      if unidades < 0:\n",
        "        print(\"Valor inválido. No se permiten valores negativos.\")\n",
        "        continue\n",
        "      fardos = unidades // 5\n",
        "      unidades_restantes = unidades % 5\n",
        "      print(unidades, \"unidades equivalen a\", fardos, \"fardos y\", unidades_restantes, \"unidades.\")\n",
        "    elif opcion == 7:\n",
        "      break\n",
        "    else:\n",
        "      print(\"Opción inválida.\")\n",
        "\n",
        "conversor()"
      ],
      "metadata": {
        "colab": {
          "base_uri": "https://localhost:8080/"
        },
        "id": "o1x-xoHhoOSI",
        "outputId": "ce3ab7e8-d8ac-467d-a026-df2f2d832bf8"
      },
      "execution_count": 177,
      "outputs": [
        {
          "name": "stdout",
          "output_type": "stream",
          "text": [
            "Opciones de conversión:\n",
            "1. Cajas a unidades\n",
            "2. Unidades a cajas\n",
            "3. Sacos a libras\n",
            "4. Libras a sacos\n",
            "5. Fardos a unidades\n",
            "6. Unidades a fardos\n",
            "7. Salir\n",
            "Elige una opción (1-7): 1\n",
            "Introduce el número de cajas: 2\n",
            "2.0 cajas equivalen a 50.0 unidades.\n",
            "Opciones de conversión:\n",
            "1. Cajas a unidades\n",
            "2. Unidades a cajas\n",
            "3. Sacos a libras\n",
            "4. Libras a sacos\n",
            "5. Fardos a unidades\n",
            "6. Unidades a fardos\n",
            "7. Salir\n",
            "Elige una opción (1-7): 7\n"
          ]
        }
      ]
    }
  ]
}